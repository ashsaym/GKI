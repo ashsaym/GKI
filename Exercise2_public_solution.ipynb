{
 "cells": [
  {
   "cell_type": "code",
   "execution_count": 16,
   "metadata": {},
   "outputs": [
    {
     "data": {
      "text/html": [
       "<style>/* Style des gesamten Dokuments */\n",
       "#notebook-container {\n",
       "\tfont-family: \"NimbusMonL-ReguObli\";\n",
       "\tfont-size: 120%\n",
       "}\n",
       "\n",
       "/* Style für die Überschrift: Zentriert diese und stellt sie fett dar. */\n",
       ".headline {\n",
       "\ttext-align: center;\n",
       "\tfont-weight: bold;\n",
       "\tfont-size: 185.7%\n",
       "}\n",
       "\n",
       "/* Style für die Aufgabenbeschreibung. Z.B.: \"Übung zum Thema...\" */\n",
       ".description {\n",
       "\ttext-align: center;\n",
       "\tfont-size: 145.7%\n",
       "}\n",
       "\n",
       "/* Hebt das Abgabedatum fett und kursiv hervor */\n",
       "#submission {\n",
       "\tfont-weight: bold;\n",
       "}\n",
       "\n",
       "/* Style für das eigentliche Thema. Z.B.: \"Intelligenz\" */\n",
       "#topic {\n",
       "\tfont-style: italic;\n",
       "}\n",
       "\n",
       ".task_description {\n",
       "\n",
       "}\n",
       "\n",
       "/* Hebt die Aufgabennummerierung fett hervor. */\n",
       ".task {\n",
       "\tfont-style: normal;\n",
       "\tfont-weight: bold;\n",
       "}\n",
       "\n",
       ".points {\n",
       "\tfont-style: italic;\n",
       "}\n",
       "\n",
       "/* Style einer Code-Cell */\n",
       ".CodeMirror-code {\n",
       "\tbackground-color: #ededed\n",
       "}\n",
       "\n",
       "/* Style eines Kommentars im Code ändern. */\n",
       ".cm-s-ipython span.cm-comment {\n",
       "\n",
       "}\n",
       "\n",
       ".cm-s-ipython span.cm-atom {\n",
       "\n",
       "}\n",
       "\n",
       ".cm-s-ipython span.cm-number {\n",
       "\n",
       "}\n",
       "\n",
       "/* Style eines Python-Keywords ändern */\n",
       ".cm-s-ipython span.cm-keyword {\n",
       "\tcolor: #B000B0\n",
       "}\n",
       "\n",
       ".cm-s-ipython span.cm-def {\n",
       "\n",
       "}\n",
       "\n",
       "/* Style einer Python-Variable ändern */\n",
       ".cm-s-ipython span.cm-variable {\n",
       "\t\n",
       "}\n",
       "\n",
       "/* Style einer Property ändern */\n",
       ".cm-s-ipython span.cm-property {\n",
       "\t\n",
       "}\n",
       "\n",
       "/* Style eines Python-Operators ändern */\n",
       ".cm-s-ipython span.cm-operator {\n",
       "\t\n",
       "}\n",
       "\n",
       "/* Style eines Python-Strings ändern */\n",
       ".cm-s-ipython span.cm-string {\n",
       "\tcolor: brown;\n",
       "}\n",
       "\n",
       "/* Style einer eingebauten Funktion ändern (z.B. \"open\") */\n",
       ".cm-s-ipython span.cm-builtin {\n",
       "\t\n",
       "}\n",
       "\n",
       "/* Hebt hervor, welche Klammern zueinander passen */\n",
       ".cm-s-ipython .CodeMirror-matchingbracket {\n",
       "\t\n",
       "}\n",
       "\n",
       ".cm-s-ipython span.cm-variable-2 {\n",
       "\n",
       "}</style>"
      ],
      "text/plain": [
       "<IPython.core.display.HTML object>"
      ]
     },
     "execution_count": 16,
     "metadata": {},
     "output_type": "execute_result"
    }
   ],
   "source": [
    "from IPython.core.display import HTML\n",
    "\n",
    "HTML(\"<style>\" + open(\"style.css\").read() + \"</style>\")"
   ]
  },
  {
   "cell_type": "markdown",
   "metadata": {},
   "source": [
    "<div class=\"headline\">\n",
    "Grundlagen künstlicher Intelligenz\n",
    "<br><br>\n",
    "Sommersemester 2019\n",
    "</div>\n",
    "<br>\n",
    "<div class=\"description\">\n",
    "    Übung zum Thema <i id=\"topic\">\"Agents\"</i>\n",
    "    <br><br>\n",
    "    Deadline Abgabe: <i #id=\"submission\">Freitag, 10.5.2019 (23:55 Uhr)</i>\n",
    "</div>"
   ]
  },
  {
   "cell_type": "markdown",
   "metadata": {},
   "source": [
    "## Präsenzübung"
   ]
  },
  {
   "cell_type": "markdown",
   "metadata": {},
   "source": [
    "<div class=\"task_description\">\n",
    "    <i class=\"task\">Task 2.1:</i>\n",
    "Wie gut sich ein Agent verhält, wird sowohl von der performance measure als auch von der utility function\n",
    "gemessen. Erklären Sie den Unterschied zwischen beiden.\n",
    "</div>"
   ]
  },
  {
   "cell_type": "markdown",
   "metadata": {},
   "source": [
    "*How well an agent behaves is measured by both the performance measure and the utility function. Explain the difference between the two.*"
   ]
  },
  {
   "cell_type": "markdown",
   "metadata": {},
   "source": [
    "<strong style=\"color: blue\">Lösung:</strong>\n",
    "\n",
    "Das performance measure ist global, d.h. es spezifiziert nur, was das angestrebte Gesamtziel ist, macht aber keine Aussagen über die individuellen Schritte um dahin zu gelangen. Die utility function ist lokal, d.h. sie bewertet die Nützlichkeit einzelner Schritte oder Zustände.\n"
   ]
  },
  {
   "cell_type": "markdown",
   "metadata": {},
   "source": [
    "<div class=\"task_description\">\n",
    "    <i class=\"task\">Task 2.2:</i>\n",
    "Definieren Sie mindestens zwei verschiedene performance measures für einen Poker-Agenten . Erläutern Sie\n",
    "welche davon für einen Agenten leichter zu erreichen sein wird.\n",
    "</div>"
   ]
  },
  {
   "cell_type": "markdown",
   "metadata": {},
   "source": [
    "*Define at least two different performance measures for a poker agent. Explain which of these will be easier for an agent to achieve.*"
   ]
  },
  {
   "cell_type": "markdown",
   "metadata": {},
   "source": [
    "<strong style=\"color: blue\">Lösung:</strong>\n",
    "\n",
    "\n",
    "Eine mögliche Antwort:\n",
    "\n",
    "* Gewinne so viel Geld wie möglich. Schwierig. Man spielt gegen andere Agenten, die auch gewinnen wollen.\n",
    "* Verliere so wenig Geld wie möglich. Leicht(er). Man setzt immer den minimalen Betrag und tut sonst nichts.\n"
   ]
  },
  {
   "cell_type": "markdown",
   "metadata": {},
   "source": [
    "<div class=\"task_description\">\n",
    "    <i class=\"task\">Task 2.3:</i>\n",
    "Entwerfen Sie PEAS-Beschreibungen für die folgenden Problemstellungen. (PEAS = Performance measure,\n",
    "Environment, Actuators, Sensors).<br>\n",
    "</div>\n",
    "\n",
    "* Rasenmäher\n",
    "* Pflegeroboter\n",
    "* Übersetzer für Sprachnachrichten\n",
    "* Agent, der Hotels auswählt\n",
    "* Kreditvergabe"
   ]
  },
  {
   "cell_type": "markdown",
   "metadata": {},
   "source": [
    "*Design PEAS descriptions for the following issues. (PEAS = Performance measure, Environment, Actuators, Sensors).*\n",
    "\n",
    "* *Lawnmower*\n",
    "* *Nursing robot*\n",
    "* *Translator for voice messages*\n",
    "* *Agent that selects hotels*\n",
    "* *Bank lending*"
   ]
  },
  {
   "cell_type": "markdown",
   "metadata": {},
   "source": [
    "<strong style=\"color: blue\">Lösung:</strong>\n",
    "\n",
    "\n",
    "| Task | Performance measures | Environment | Actuators | Sensors |\n",
    "| ---- | --- | --- | --- | --- |\n",
    "| Rasenmäher | sauberes Mähen, niedrige Dauer des Vorgangs | Rasen | Elektromotor, Schneidewerkzeug, Display | Knöpfe,Usb Schnittstelle, Stoßsensor, Regensensor |\n",
    "| Pflegeroboter |Gesundheitszustand, emotionaler Zustand, rechtliche Maßgaben | Altenheim, Wohnung | Roboterarme, Räder | Kontaktsensor, Bildanalyse, medizinische Daten, Mikrophon |\n",
    "| Übersetzer | Korrektes Übersetzen einer Nachricht, Korrekte Ausprache der Übersetzung | Sprachnachricht, Benutzer | Sprachausgaben,  Bildschirmausgaben | Spracheingabe |\n",
    "| Hotelsuche | Preis/Leistungsverhältnis, Distanz zum gewünschten Ort | Internet oder Datenbank | Ergebnisausgabe | Eingegebene Informationen des Nutzers |\n",
    "| Kreditvergabe | Möglichst viele Kunden korrerkt nach ihrer Kreditwürdigkeit bewerten | Kunden, Angestellte, Datenbank | Anzeigen einer Bewertung, Eingabeaufforderung | Eingegebene Informationen über den Kunden |"
   ]
  },
  {
   "cell_type": "markdown",
   "metadata": {},
   "source": [
    "<div class=\"task_description\">\n",
    "    <i class=\"task\">Task 2.4:</i>\n",
    "Entwerfen Sie Umgebungs-Beschreibungen für die oben genannten Problemstellungen. Spezifizieren Sie die\n",
    "Kategorien Observability, Certainty, Temporal succession, Continuity, Scale, und Population.\n",
    "</div>"
   ]
  },
  {
   "cell_type": "markdown",
   "metadata": {},
   "source": [
    "*Design environment descriptions for the above issues. Specify the categories Observability, Certainty, Temporal succession, Continuity, Scale, and Population.*"
   ]
  },
  {
   "cell_type": "markdown",
   "metadata": {},
   "source": [
    "<strong style=\"color: blue\">Lösung:</strong>\n",
    "\n",
    "\n",
    "| Task | Observability | Certainty | Succession | Continuity | Scale | Population |\n",
    "| ---- | --- | --- | --- | --- | --- | --- | \n",
    "| Rasenmäher | partial | stochastic | sequential | dynamic | continuous | single |\n",
    "| Pflegeroboter | partial | stochastic | sequential | dynamic | continuous | more likely single |\n",
    "| Übersetzer | complete | deterministic | episodic | static | continuous | single |\n",
    "| Hotelsuche | partial | deterministic | episodic | dynamic | continuous | single |\n",
    "| Kreditvergabe | complete | strategic | static |  episodic | continuous | single |\n",
    "\n",
    "Mit Lernkomponente wird episodic zu sequential. <br>\n",
    "Dies sind nur einige mögliche Lösungen. Andere Angaben können je nach Modellierung auch richtig sein.\n"
   ]
  },
  {
   "cell_type": "markdown",
   "metadata": {},
   "source": [
    "## Hausübung"
   ]
  },
  {
   "cell_type": "markdown",
   "metadata": {},
   "source": [
    "<div class=\"task_description\">\n",
    "    <i class=\"task\">Homework 2.1:</i>\n",
    "        ::: 5 Hausaufgabenpunkte :::</div>\n",
    "        \n",
    "Erstellen Sie PEAS-Beschreibungen für die folgenden Agenten. Begründen Sie Ihre Antworten:<br>\n",
    "(a) Mensch-ärger-dich-nicht<br>\n",
    "(b) Selbstfahrende U-Bahn<br>\n",
    "(c) Aktienhändler<br>"
   ]
  },
  {
   "cell_type": "markdown",
   "metadata": {},
   "source": [
    "*Create PEAS descriptions for the following agents. Justify your answers:*<br>\n",
    "*(a) Mensch-ärger-dich-nicht* <br>\n",
    "*(b) Self-driving subway* <br>\n",
    "*(c) stock trader* <br>"
   ]
  },
  {
   "cell_type": "markdown",
   "metadata": {},
   "source": [
    "<div class=\"task_description\">\n",
    "    <i class=\"task\">Homework 2.2:</i>\n",
    "        ::: 5 Hausaufgabenpunkte :::</div>\n",
    "\n",
    "Beschreiben Sie die Umgebungen, in denen die Agenten operieren anhand der Kategorien Observability, Certainty, Temporal Succession, Continuity, Scale, und Population. Begründen Sie Ihre Antworten.\n"
   ]
  },
  {
   "cell_type": "markdown",
   "metadata": {},
   "source": [
    "*Describe the environments in which the agents operate using the categories Observability, Certainty, Temporal Succession, Continuity, Scale, and Population. Justify your answers.*"
   ]
  }
 ],
 "metadata": {
  "kernelspec": {
   "display_name": "Python 3",
   "language": "python",
   "name": "python3"
  },
  "language_info": {
   "codemirror_mode": {
    "name": "ipython",
    "version": 3
   },
   "file_extension": ".py",
   "mimetype": "text/x-python",
   "name": "python",
   "nbconvert_exporter": "python",
   "pygments_lexer": "ipython3",
   "version": "3.6.5"
  },
  "varInspector": {
   "cols": {
    "lenName": 16,
    "lenType": 16,
    "lenVar": 40
   },
   "kernels_config": {
    "python": {
     "delete_cmd_postfix": "",
     "delete_cmd_prefix": "del ",
     "library": "var_list.py",
     "varRefreshCmd": "print(var_dic_list())"
    },
    "r": {
     "delete_cmd_postfix": ") ",
     "delete_cmd_prefix": "rm(",
     "library": "var_list.r",
     "varRefreshCmd": "cat(var_dic_list()) "
    }
   },
   "types_to_exclude": [
    "module",
    "function",
    "builtin_function_or_method",
    "instance",
    "_Feature"
   ],
   "window_display": false
  }
 },
 "nbformat": 4,
 "nbformat_minor": 2
}
