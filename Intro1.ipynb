{
 "cells": [
  {
   "cell_type": "code",
   "execution_count": 52,
   "metadata": {
    "collapsed": true,
    "hide_input": true
   },
   "outputs": [
    {
     "data": {
      "text/html": [
       "<style>/* Style des gesamten Dokuments */\n",
       "#notebook-container {\n",
       "\tfont-family: \"NimbusMonL-ReguObli\";\n",
       "\tfont-size: 120%\n",
       "}\n",
       "\n",
       "/* Style für die Überschrift: Zentriert diese und stellt sie fett dar. */\n",
       ".headline {\n",
       "\ttext-align: center;\n",
       "\tfont-weight: bold;\n",
       "\tfont-size: 185.7%\n",
       "}\n",
       "\n",
       "/* Style für die Aufgabenbeschreibung. Z.B.: \"Übung zum Thema...\" */\n",
       ".description {\n",
       "\ttext-align: center;\n",
       "\tfont-size: 145.7%\n",
       "}\n",
       "\n",
       "/* Hebt das Abgabedatum fett und kursiv hervor */\n",
       "#submission {\n",
       "\tfont-weight: bold;\n",
       "}\n",
       "\n",
       "/* Style für das eigentliche Thema. Z.B.: \"Intelligenz\" */\n",
       "#topic {\n",
       "\tfont-style: italic;\n",
       "}\n",
       "\n",
       ".task_description {\n",
       "\n",
       "}\n",
       "\n",
       "/* Hebt die Aufgabennummerierung fett hervor. */\n",
       ".task {\n",
       "\tfont-style: normal;\n",
       "\tfont-weight: bold;\n",
       "}\n",
       "\n",
       ".points {\n",
       "\tfont-style: italic;\n",
       "}\n",
       "\n",
       "/* Style einer Code-Cell */\n",
       ".CodeMirror-code {\n",
       "\tbackground-color: #ededed\n",
       "}\n",
       "\n",
       "/* Style eines Kommentars im Code ändern. */\n",
       ".cm-s-ipython span.cm-comment {\n",
       "\n",
       "}\n",
       "\n",
       ".cm-s-ipython span.cm-atom {\n",
       "\n",
       "}\n",
       "\n",
       ".cm-s-ipython span.cm-number {\n",
       "\n",
       "}\n",
       "\n",
       "/* Style eines Python-Keywords ändern */\n",
       ".cm-s-ipython span.cm-keyword {\n",
       "\tcolor: #B000B0\n",
       "}\n",
       "\n",
       ".cm-s-ipython span.cm-def {\n",
       "\n",
       "}\n",
       "\n",
       "/* Style einer Python-Variable ändern */\n",
       ".cm-s-ipython span.cm-variable {\n",
       "\t\n",
       "}\n",
       "\n",
       "/* Style einer Property ändern */\n",
       ".cm-s-ipython span.cm-property {\n",
       "\t\n",
       "}\n",
       "\n",
       "/* Style eines Python-Operators ändern */\n",
       ".cm-s-ipython span.cm-operator {\n",
       "\t\n",
       "}\n",
       "\n",
       "/* Style eines Python-Strings ändern */\n",
       ".cm-s-ipython span.cm-string {\n",
       "\tcolor: brown;\n",
       "}\n",
       "\n",
       "/* Style einer eingebauten Funktion ändern (z.B. \"open\") */\n",
       ".cm-s-ipython span.cm-builtin {\n",
       "\t\n",
       "}\n",
       "\n",
       "/* Hebt hervor, welche Klammern zueinander passen */\n",
       ".cm-s-ipython .CodeMirror-matchingbracket {\n",
       "\t\n",
       "}\n",
       "\n",
       ".cm-s-ipython span.cm-variable-2 {\n",
       "\n",
       "}</style>"
      ],
      "text/plain": [
       "<IPython.core.display.HTML object>"
      ]
     },
     "execution_count": 52,
     "metadata": {},
     "output_type": "execute_result"
    }
   ],
   "source": [
    "from IPython.core.display import HTML\n",
    "\n",
    "HTML(\"<style>\" + open(\"style.css\").read() + \"</style>\")"
   ]
  },
  {
   "cell_type": "markdown",
   "metadata": {},
   "source": [
    "<div class=\"headline\">\n",
    "Grundlagen künstlicher Intelligenz\n",
    "</div>"
   ]
  },
  {
   "cell_type": "markdown",
   "metadata": {},
   "source": [
    "<div class=\"headline\">\n",
    "    Sommersemester 2019\n",
    "</div>"
   ]
  },
  {
   "cell_type": "markdown",
   "metadata": {},
   "source": [
    "<div class=\"description\">\n",
    "    Einführung I\n",
    "</div>"
   ]
  },
  {
   "cell_type": "markdown",
   "metadata": {},
   "source": [
    "# Simple sequences"
   ]
  },
  {
   "cell_type": "markdown",
   "metadata": {},
   "source": [
    "A simple sequence of instructions is the most basic program you can write.\n",
    "The simplest sequence is one containing a single command.\n",
    "We will try out some of these now."
   ]
  },
  {
   "cell_type": "code",
   "execution_count": 36,
   "metadata": {},
   "outputs": [
    {
     "name": "stdout",
     "output_type": "stream",
     "text": [
      "Hello there!\n"
     ]
    }
   ],
   "source": [
    "print('Hello there!')"
   ]
  },
  {
   "cell_type": "markdown",
   "metadata": {},
   "source": [
    "## Arithmetic Operators"
   ]
  },
  {
   "cell_type": "markdown",
   "metadata": {},
   "source": [
    "It's not just strings that can be printed:"
   ]
  },
  {
   "cell_type": "code",
   "execution_count": 37,
   "metadata": {},
   "outputs": [
    {
     "name": "stdout",
     "output_type": "stream",
     "text": [
      "11\n"
     ]
    }
   ],
   "source": [
    "print(6 + 5)"
   ]
  },
  {
   "cell_type": "markdown",
   "metadata": {},
   "source": [
    "Use some other arithmetic operators:\n",
    "* sum (+)\n",
    "* subtract (-)\n",
    "* multiply (*)\n",
    "* divide (/) <br>\n",
    "\n",
    "\n",
    "Combine multiple expressions like:"
   ]
  },
  {
   "cell_type": "code",
   "execution_count": 38,
   "metadata": {},
   "outputs": [
    {
     "name": "stdout",
     "output_type": "stream",
     "text": [
      "6.0\n"
     ]
    }
   ],
   "source": [
    "print(((8 * 4) + (7 - 3)) / (2 + 4))"
   ]
  },
  {
   "cell_type": "markdown",
   "metadata": {},
   "source": [
    "Experiment and you will soon get the idea (note: ’,’ separates elements in a print statement):"
   ]
  },
  {
   "cell_type": "code",
   "execution_count": 39,
   "metadata": {},
   "outputs": [
    {
     "name": "stdout",
     "output_type": "stream",
     "text": [
      "The total is:  68\n"
     ]
    }
   ],
   "source": [
    "print('The total is: ', 23 + 45)"
   ]
  },
  {
   "cell_type": "markdown",
   "metadata": {},
   "source": [
    "Take a few minutes to try it out (try to sum up two strings, multiply some strings with numbers)."
   ]
  },
  {
   "cell_type": "code",
   "execution_count": 40,
   "metadata": {},
   "outputs": [
    {
     "name": "stdout",
     "output_type": "stream",
     "text": [
      "sum of 34 and 56 is  90\n",
      "99 - 100 =  -1\n",
      "abcabcabcabcabc\n",
      "UniDuE\n",
      "Uni DuE\n",
      "Uni DuE Uni DuE Uni DuE \n"
     ]
    }
   ],
   "source": [
    "print('sum of 34 and 56 is ', 34 + 56)\n",
    "print('99 - 100 = ', 99 - 100)\n",
    "print(5 * 'abc')\n",
    "print('Uni' + 'DuE')\n",
    "print('Uni ' + 'DuE')\n",
    "print(3 * ('Uni ' + 'DuE '))"
   ]
  },
  {
   "cell_type": "markdown",
   "metadata": {},
   "source": [
    "## Variables\n",
    "In programming terms we can create instances of data types and assign them to variables.\n",
    "A variable is a reference to a specific area somewhere in the computers memory. These areas hold the data.\n",
    "e.g."
   ]
  },
  {
   "cell_type": "code",
   "execution_count": 53,
   "metadata": {},
   "outputs": [
    {
     "name": "stdout",
     "output_type": "stream",
     "text": [
      "I study in Duisburg\n",
      "I study in Duisburg\n"
     ]
    }
   ],
   "source": [
    "town = 'Duisburg'\n",
    "print('I study in', town)\n",
    "print(\"I study in \" + town)"
   ]
  },
  {
   "cell_type": "markdown",
   "metadata": {},
   "source": [
    "In Python a variable takes the type of the data assigned to it. It will keep that type and you will be warned if you try to mix data in strange ways - like trying to add a string to a number. We can change the type of data that a variable points to by reassigning the variable."
   ]
  },
  {
   "cell_type": "code",
   "execution_count": 57,
   "metadata": {},
   "outputs": [
    {
     "name": "stdout",
     "output_type": "stream",
     "text": [
      "7\n",
      "14\n",
      "Seven\n",
      "SevenSeven\n"
     ]
    }
   ],
   "source": [
    "q = 7\n",
    "# q is now a number\n",
    "print(q)\n",
    "print(q + q)\n",
    "\n",
    "q = \"Seven\"\n",
    "# reassign q to a string\n",
    "print(q)\n",
    "print(q + q)"
   ]
  },
  {
   "cell_type": "markdown",
   "metadata": {},
   "source": [
    "## Comparison Operators\n",
    "Assume variable a holds 10 and variable b holds 20 then:"
   ]
  },
  {
   "cell_type": "markdown",
   "metadata": {},
   "source": [
    "| Operator | Description | Example         \n",
    "|:-|:------------- | :-----------------\n",
    "|==|Checks if the value of two operands are equal or not, if yes then condition becomes true.|(a == b) is not true.\n",
    "|!=|Checks if the value of two operands are equal or not, if values are not equal then condition becomes true.|(a != b) is true.\n",
    "|<>|Checks if the value of two operands are equal or not, if values are not equal then condition becomes true.|(a <> b) is true. This is similar to != operator.\n",
    "|/>|Checks if the value of left operand is greater than the value of right operand, if yes then condition becomes true.|(a > b) is not true.\n",
    "|<|Checks if the value of left operand is less than the value of right operand, if yes then condition becomes true.|(a < b) is true.\n",
    "|/>=|Checks if the value of two operands are equal or not, if values are not equal then condition becomes true.|(a >= b) is not true.\n",
    "|<=|Checks if the value of left operand is less than or equal to the value of right operand, if yes then condition becomes true.|(a <= b) is true."
   ]
  },
  {
   "cell_type": "markdown",
   "metadata": {},
   "source": [
    "Take a few minutes to try it out (e.g. ```me = ’your name’```). Use already learned operators."
   ]
  },
  {
   "cell_type": "code",
   "execution_count": 44,
   "metadata": {},
   "outputs": [
    {
     "name": "stdout",
     "output_type": "stream",
     "text": [
      "Otto Normalverbaucher\n"
     ]
    }
   ],
   "source": [
    "me = 'Otto'\n",
    "last_name = 'Normalverbaucher'\n",
    "print (me + \" \" + last_name)"
   ]
  },
  {
   "cell_type": "code",
   "execution_count": 45,
   "metadata": {},
   "outputs": [
    {
     "name": "stdout",
     "output_type": "stream",
     "text": [
      "I am 20\n"
     ]
    }
   ],
   "source": [
    "me = 20\n",
    "print ('I am', me)"
   ]
  },
  {
   "cell_type": "code",
   "execution_count": 46,
   "metadata": {},
   "outputs": [
    {
     "name": "stdout",
     "output_type": "stream",
     "text": [
      "True\n"
     ]
    }
   ],
   "source": [
    "word1 = 'one'\n",
    "word2 = 'two'\n",
    "print (word1 != word2)"
   ]
  },
  {
   "cell_type": "code",
   "execution_count": 47,
   "metadata": {},
   "outputs": [
    {
     "name": "stdout",
     "output_type": "stream",
     "text": [
      "False\n"
     ]
    }
   ],
   "source": [
    "x = 47\n",
    "y = 53\n",
    "print (x >= y)"
   ]
  },
  {
   "cell_type": "markdown",
   "metadata": {},
   "source": [
    "## Slice Operator\n",
    "Subsets of strings can be taken using the slice operator (```[x]``` and ```[x:y]``` ) with indexes starting at 0 in the beginning of the string and working their way from -1 at the end. For example:\n",
    "</div>"
   ]
  },
  {
   "cell_type": "code",
   "execution_count": 58,
   "metadata": {},
   "outputs": [
    {
     "name": "stdout",
     "output_type": "stream",
     "text": [
      "Hello World!\n",
      "H\n",
      "llo\n",
      "llo World!\n"
     ]
    }
   ],
   "source": [
    "str = 'Hello World!'\n",
    "print (str)\n",
    "# Prints complete string\n",
    "\n",
    "print (str[0])\n",
    "# Prints first character of the string\n",
    "\n",
    "print (str[2:5])\n",
    "# Prints characters starting from 3rd to 6th\n",
    "\n",
    "print (str[2:])\n",
    "# Prints string starting from 3rd character"
   ]
  },
  {
   "cell_type": "markdown",
   "metadata": {},
   "source": [
    "<div class=\"task_description\">\n",
    "    <i class=\"task\">Task I.1:</i>\n",
    "\n",
    "Solve the tasks below:<br>\n",
    "1. Write your first name, last name, then your complete name (using the already existing variables for the latter) and then print out your complete name 20 times. Use the operators you got to know.\n",
    "</div>"
   ]
  },
  {
   "cell_type": "code",
   "execution_count": 49,
   "metadata": {},
   "outputs": [
    {
     "name": "stdout",
     "output_type": "stream",
     "text": [
      "Erika MustermannErika MustermannErika MustermannErika MustermannErika MustermannErika MustermannErika MustermannErika MustermannErika MustermannErika MustermannErika MustermannErika MustermannErika MustermannErika MustermannErika MustermannErika MustermannErika MustermannErika MustermannErika MustermannErika Mustermann\n"
     ]
    }
   ],
   "source": [
    "# for example\n",
    "first_name = 'Erika'\n",
    "last_name = 'Mustermann'\n",
    "complete_name = first_name + \" \" + last_name\n",
    "print (20*complete_name)"
   ]
  },
  {
   "cell_type": "markdown",
   "metadata": {},
   "source": [
    "2. Calculate for how long you have lived (in days) since your birth date (assuming one year has 365 days and one month has 31 days)."
   ]
  },
  {
   "cell_type": "code",
   "execution_count": 50,
   "metadata": {},
   "outputs": [
    {
     "name": "stdout",
     "output_type": "stream",
     "text": [
      "14345\n"
     ]
    }
   ],
   "source": [
    "# for example the date of birth is 01.01.1980 and today is 18.04.2019\n",
    "days = (2019 - 1980)*365 + (4 - 1)*31 + (18 - 1)\n",
    "print (days)"
   ]
  },
  {
   "cell_type": "markdown",
   "metadata": {},
   "source": [
    "3. Let b be 27 and c 49. Show in Python that b is less than c."
   ]
  },
  {
   "cell_type": "code",
   "execution_count": 51,
   "metadata": {},
   "outputs": [
    {
     "name": "stdout",
     "output_type": "stream",
     "text": [
      "True\n"
     ]
    }
   ],
   "source": [
    "b = 27\n",
    "c = 49\n",
    "print (b < c)"
   ]
  }
 ],
 "metadata": {
  "kernelspec": {
   "display_name": "Python 3",
   "language": "python",
   "name": "python3"
  },
  "language_info": {
   "codemirror_mode": {
    "name": "ipython",
    "version": 3
   },
   "file_extension": ".py",
   "mimetype": "text/x-python",
   "name": "python",
   "nbconvert_exporter": "python",
   "pygments_lexer": "ipython3",
   "version": "3.7.3"
  },
  "varInspector": {
   "cols": {
    "lenName": 16,
    "lenType": 16,
    "lenVar": 40
   },
   "kernels_config": {
    "python": {
     "delete_cmd_postfix": "",
     "delete_cmd_prefix": "del ",
     "library": "var_list.py",
     "varRefreshCmd": "print(var_dic_list())"
    },
    "r": {
     "delete_cmd_postfix": ") ",
     "delete_cmd_prefix": "rm(",
     "library": "var_list.r",
     "varRefreshCmd": "cat(var_dic_list()) "
    }
   },
   "types_to_exclude": [
    "module",
    "function",
    "builtin_function_or_method",
    "instance",
    "_Feature"
   ],
   "window_display": false
  }
 },
 "nbformat": 4,
 "nbformat_minor": 2
}
