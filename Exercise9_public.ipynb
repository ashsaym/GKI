{
 "cells": [
  {
   "cell_type": "code",
   "execution_count": null,
   "metadata": {},
   "outputs": [],
   "source": [
    "from IPython.core.display import HTML\n",
    "\n",
    "HTML(\"<style>\" + open(\"style.css\").read() + \"</style>\")"
   ]
  },
  {
   "cell_type": "markdown",
   "metadata": {},
   "source": [
    "<div class=\"headline\">\n",
    "Grundlagen künstlicher Intelligenz\n",
    "<br><br>\n",
    "Sommersemester 2019\n",
    "</div>\n",
    "<br>\n",
    "<div class=\"description\">\n",
    "    Übung zum Thema <i id=\"topic\">\"Neural Networks\"</i>\n",
    "    <br><br>\n",
    "    Deadline Abgabe: <i #id=\"submission\">Freitag, 13.07.2019 (23:55 Uhr)</i>\n",
    "</div>"
   ]
  },
  {
   "cell_type": "markdown",
   "metadata": {},
   "source": [
    "# Präsenzübung"
   ]
  },
  {
   "cell_type": "markdown",
   "metadata": {},
   "source": [
    "Benötigt für diese Übung:\n",
    "* keras\n",
    "* tensorflow/theano"
   ]
  },
  {
   "cell_type": "markdown",
   "metadata": {},
   "source": [
    "<div class=\"task_description\">\n",
    "    <i class=\"task\">Task 9.1:</i> <br>\n",
    "</div>\n"
   ]
  },
  {
   "cell_type": "markdown",
   "metadata": {},
   "source": [
    "a) Warum und wofür werden Neural Networks verwendet? (*Why and what are Neural Networks used for?*)"
   ]
  },
  {
   "cell_type": "markdown",
   "metadata": {},
   "source": [
    "b) Wie ist der grundlegende Aufbau eines Neural Networks? (*What is the basic structure of a Neural Network?*)"
   ]
  },
  {
   "cell_type": "markdown",
   "metadata": {},
   "source": [
    "c) Wie wird der Output dieses Neurons berechnet? Als Aktivierungsfunktion verwenden wir ReLu (Rectified Linear Units, y = max(0, x)) <br>\n",
    "\n",
    "*How is the output of this neuron calculated? We use ReLu (Rectified Linear Units, y = max(0, x)) as the activation function.*\n",
    "\n",
    "![Neuron](img/exercise9/neuron.png)\n"
   ]
  },
  {
   "cell_type": "markdown",
   "metadata": {},
   "source": [
    "<div class=\"task_description\">\n",
    "    <i class=\"task\">Task 9.2:</i> <br>\n",
    "    \n",
    "Die automatische Erkennung von handgeschriebenen Zahlen ist eine wichtige Anwendung z.B. für das automatische\n",
    "Sortieren von Briefen nach der Postleitzahl. Der bekannteste Datensatz für dieses Problem ist der sogenannte MNIST Datensatz (http://yann.lecun.com/exdb/mnist/). <br><br>\n",
    "Er enthält 60000 Bilder mit handgeschriebenen Zahlen. Jedes Bild wird als ein Vektor von Pixeln repräsentiert. Der Wert ist dabei die Farbe des Pixels (0 = weiß, 255 = schwarz).\n",
    "Das Ziel ist es, auf jedem Bild automatisch die dazugehörige Zahl zu identifizieren. Für diesen Task gibt es also zehn Klassen: Alle Zahlen von 0-9.\n",
    "</div>"
   ]
  },
  {
   "cell_type": "markdown",
   "metadata": {},
   "source": [
    "*The automatic recognition of handwritten numbers is an important application, e.g. for the automatic sorting of letters by postal code. The best known dataset for this problem is the so-called MNIST dataset (http://yann.lecun.com/exdb/mnist/).* <br>\n",
    "\n",
    "*It contains 60000 pictures with handwritten numbers. Each image is represented as a vector of pixels. The value is the color of the pixel (0 = white, 255 = black).\n",
    "The aim is to automatically identify the corresponding number on each image. So there are ten classes for this task: All numbers from 0-9.*"
   ]
  },
  {
   "cell_type": "code",
   "execution_count": null,
   "metadata": {},
   "outputs": [],
   "source": [
    "import numpy as np\n",
    "\n",
    "from random import randint\n",
    "from random import sample\n",
    "\n",
    "import matplotlib\n",
    "import matplotlib.pyplot as plt\n",
    "\n",
    "import keras\n",
    "from keras.models import Sequential, load_model\n",
    "from keras.datasets import mnist\n",
    "from keras.layers.core import Dense, Dropout, Activation\n",
    "from keras.utils import np_utils"
   ]
  },
  {
   "cell_type": "code",
   "execution_count": null,
   "metadata": {},
   "outputs": [],
   "source": [
    "#Load the dataset MNIST Handwritten Digits dataset\n",
    "(x_train, y_train), (x_test, y_test) = mnist.load_data()"
   ]
  },
  {
   "cell_type": "markdown",
   "metadata": {},
   "source": [
    "## Inspect some examples"
   ]
  },
  {
   "cell_type": "markdown",
   "metadata": {},
   "source": [
    "a) Gucken Sie sich zunächst den Datensatz noch einmal genauer an, indem Sie sich einzelne Beispiele ausgeben lassen. <br>\n",
    "\n",
    "*First, take a closer look at the data record again by displaying individual examples.*"
   ]
  },
  {
   "cell_type": "code",
   "execution_count": null,
   "metadata": {},
   "outputs": [],
   "source": [
    "# Hier könnte Ihr Code stehen."
   ]
  },
  {
   "cell_type": "markdown",
   "metadata": {},
   "source": [
    "b) Warum empfielt es sich, für dieses Problem Machine Learning zu verwenden? Was könnten die Schwierigkeiten bei anderen Methoden sein? <br>\n",
    "\n",
    "*Why is it a good idea to use Machine Learning for this problem? What might be the difficulties with other methods?*"
   ]
  },
  {
   "cell_type": "markdown",
   "metadata": {},
   "source": [
    "## Prepare the data"
   ]
  },
  {
   "cell_type": "markdown",
   "metadata": {},
   "source": [
    "<div class=\"task_description\">\n",
    "    <i class=\"task\">Task 9.3:</i> <br>\n",
    "    \n",
    "Neuronale Netze, wie in Aufgabe 9.1. besprochen, sind sehr gut in der Lage, dieses Problem zu lösen. Im Rahmen dieser Aufgabe wollen wir neuronales Netz bauen, das handgeschriebene Ziffern erkennen kann.\n",
    "</div>"
   ]
  },
  {
   "cell_type": "markdown",
   "metadata": {},
   "source": [
    "*Neural networks, as discussed in Task 9.1, are very well able to solve this problem. As part of this task, we want to build a neural network that can recognize handwritten numbers.*"
   ]
  },
  {
   "cell_type": "markdown",
   "metadata": {},
   "source": [
    "a) Passen Sie die Klassenvektoren (y_train und y_test) so an, dass wir sie für das neuronale Netz verwenden können. <br>\n",
    "\n",
    "*Adjust the class vectors (y_train and y_test) so that we can use them for the neural network.*"
   ]
  },
  {
   "cell_type": "code",
   "execution_count": null,
   "metadata": {},
   "outputs": [],
   "source": [
    "# Hier könnte Ihr Code stehen."
   ]
  },
  {
   "cell_type": "markdown",
   "metadata": {},
   "source": [
    "b) Passen Sie die Eingabedaten (x_train und x_test) so an, dass wir sie für das neuronale Netz verwenden können.\n",
    "\n",
    "*Adjust the input data (x_train and x_test) so that we can use them for the neural network.*"
   ]
  },
  {
   "cell_type": "markdown",
   "metadata": {},
   "source": [
    "## Evaluation"
   ]
  },
  {
   "cell_type": "markdown",
   "metadata": {},
   "source": [
    "c) Gegeben sind folgende Hilfsfunktionen: (*The following help functions are given*)"
   ]
  },
  {
   "cell_type": "markdown",
   "metadata": {},
   "source": [
    "Bauen Sie ein neuronales Netz, welches in der Lage ist, handgeschriebene Ziffern zu erkennen. Experimentieren Sie dabei auch mit den Parametern. Was fällt Ihnen auf?\n",
    "\n",
    "Orientieren Sie sich dabei an der Dokumentation: https://keras.io/layers/core/"
   ]
  },
  {
   "cell_type": "markdown",
   "metadata": {},
   "source": [
    "*Build a neural network capable of recognizing handwritten numbers. Experiment with the parameters as well. What do you notice?* <br>\n",
    "\n",
    "*Use the documentation for orientation: https://keras.io/layers/core/*"
   ]
  },
  {
   "cell_type": "code",
   "execution_count": null,
   "metadata": {},
   "outputs": [],
   "source": [
    "def fit_model(model, xtrain, ytrain):\n",
    "    history = model.fit(xtrain, ytrain,\n",
    "                        batch_size=batch_size,\n",
    "                        epochs=epochs,\n",
    "                        verbose=True,\n",
    "                        validation_split=.1)\n",
    "    return history\n",
    "    \n",
    "def evaluate_model(model, history, xtest, ytest):\n",
    "    score = model.evaluate(xtest, ytest, verbose=False)\n",
    "\n",
    "    plt.plot(history.history['acc'])\n",
    "    plt.plot(history.history['val_acc'])\n",
    "    plt.title('model accuracy')\n",
    "    plt.ylabel('accuracy')\n",
    "    plt.xlabel('epoch')\n",
    "    plt.legend(['training', 'validation'], loc='best')\n",
    "    plt.show()\n",
    " \n",
    "    print(\"Test loss: \", score[0])\n",
    "    print(\"Test accuracy: \", score[1])"
   ]
  },
  {
   "cell_type": "code",
   "execution_count": null,
   "metadata": {},
   "outputs": [],
   "source": [
    "batch_size = 128\n",
    "epochs = 5\n",
    "\n",
    "#Your model:\n",
    "model = Sequential()\n",
    "\n",
    "#Here you can modify your model\n",
    "\n",
    "model.compile(\n",
    "    optimizer=\"sgd\",\n",
    "    loss='categorical_crossentropy',\n",
    "    metrics=['accuracy'])\n",
    "\n",
    "#Train the neural network\n",
    "history = fit_model(model, x_train_reshaped, y_train_one_hot)\n",
    "\n",
    "#Evaluate the neural network\n",
    "evaluate_model(model, history, x_test_reshaped, y_test_one_hot)"
   ]
  },
  {
   "cell_type": "markdown",
   "metadata": {},
   "source": [
    "d) Wie viele Input- und Outputknoten (Nodes) gibt es? Wäre auch eine andere Zahl denkbar? <br>\n",
    "\n",
    "*How many input and output nodes are there? Could it be a different number?*"
   ]
  },
  {
   "cell_type": "markdown",
   "metadata": {},
   "source": [
    "e) Wie viele Knoten sind im hidden layer vorgesehen? Wäre auch eine andere Zahl denkbar? <br>\n",
    "\n",
    "*How many nodes are there in the hidden layer? Could it be a different number?*"
   ]
  },
  {
   "cell_type": "markdown",
   "metadata": {},
   "source": [
    "f) Welche weiteren Parameter gibt es? <br>\n",
    "\n",
    "*Which other parameters are there?*"
   ]
  },
  {
   "cell_type": "markdown",
   "metadata": {},
   "source": [
    "g) Welche Activation Functions werden hier verwendet und welche anderen Aktivierungsfunktionen gibt es? <br>\n",
    "\n",
    "*Which Activation Functions are used here and which other Activation Functions are there?*"
   ]
  },
  {
   "cell_type": "markdown",
   "metadata": {},
   "source": [
    "h) Warum werden die Aktivierungsfunktionen im Code in dieser Reihenfolge verwendet? <br>\n",
    "\n",
    "*Why are the activation functions in the code used in this order?*"
   ]
  },
  {
   "cell_type": "markdown",
   "metadata": {},
   "source": [
    "i) Im Code werden 'epochs'und 'batch_size' definiert. Was versteht man darunter?  <br>\n",
    "\n",
    "*The code defines 'epochs' and 'batch_size'. What do they mean?*"
   ]
  },
  {
   "cell_type": "markdown",
   "metadata": {},
   "source": [
    "## Convolutional Neural Networks"
   ]
  },
  {
   "cell_type": "markdown",
   "metadata": {},
   "source": [
    "<div class=\"task_description\">\n",
    "    <i class=\"task\">Task 9.4:</i> <br>\n",
    "</div>"
   ]
  },
  {
   "cell_type": "markdown",
   "metadata": {},
   "source": [
    "Convolutional Neural Networks enthalten Schichten, in denen die Aktivität mithilfe von diskreter Faltung (Convolution) berechnet wird.<br>\n",
    "*Convolutional Neural Networks contain layers in which activity is calculated using discrete convolution.*\n",
    "\n",
    "Gegeben ist der Filter b (*Given is filter b*)\n",
    "\n",
    "$$b = \\begin{bmatrix} -1 &  1 \\\\ 1 & -1 \\end{bmatrix}$$\n",
    "\n",
    "und als Eingabe das Bild f (*and as input the image f*)\n",
    "\n",
    "$$f = \\begin{bmatrix} 0 & 0.1 & 0.5 \\\\ 0 & 0.7 & 0.2 \\\\ 0.9 & 0.2 & 0 \\end{bmatrix}$$"
   ]
  },
  {
   "cell_type": "markdown",
   "metadata": {},
   "source": [
    "a) Berechnen Sie das Ergebnis der diskreten Faltung. Verwenden Sie hierfür die Aktivierungsfunktion f mit <br>\n",
    "\n",
    "*Calculate the result of the discrete convolution. To do this, use the activation function f with* <br>\n",
    "\n",
    "$$f(x) = max(x, 0)$$"
   ]
  },
  {
   "cell_type": "markdown",
   "metadata": {},
   "source": [
    "b) Für welches Feature könnte der Filter zuständig sein? <br>\n",
    "\n",
    "*For which feature could the filter be responsible?*"
   ]
  },
  {
   "cell_type": "markdown",
   "metadata": {},
   "source": [
    "c) Entwickeln sie einen Filter mit einer Höhe und Breite von 3, welcher in der Lage ist, vertikale Kanten zu entdecken.<br>\n",
    "\n",
    "*Develop a filter with a height and width of 3 which is capable of detecting vertical edges.*"
   ]
  },
  {
   "cell_type": "markdown",
   "metadata": {},
   "source": [
    "d) Zusätzlich enthalten Convolutional Neural Networks sogenannte Pooling Layers. Hier werden überflüssige Informationen verworfen.<br>\n",
    "\n",
    "Berechnen Sie die Ausgabe einer Max-Pooling-Layer für folgenden Input: <br>\n",
    "\n",
    "*In addition, Convolutional Neural Networks contain so-called pooling layers. Here superfluous information is discarded.*<br>\n",
    "\n",
    "*Calculate the output of a Max Pooling Layer for the following input:* <br>\n",
    "\n",
    "$$\\begin{bmatrix} 0.8 & 0.2 & 0.4 & 0.2\\\\ 0.9 & 0.5 & -0.4 & 0.2 \\\\ 0.1 & 0.1 & -0.6 & -0.4 \\\\ -0.2 & 0.9 & -0.3 & 0.6 \\end{bmatrix}$$"
   ]
  },
  {
   "cell_type": "markdown",
   "metadata": {},
   "source": [
    "<div class=\"task_description\">\n",
    "    <i class=\"task\">Task 9.5:</i> <br>\n",
    "</div>\n",
    "\n",
    "Im Folgenden sehen Sie, wie ein Convolutional Neural Network mithilfe von Keras implementiert werden kann.<br>\n",
    "\n",
    "*The following shows how to implement a Convolutional Neural Network using Keras.*"
   ]
  },
  {
   "cell_type": "code",
   "execution_count": null,
   "metadata": {},
   "outputs": [],
   "source": [
    "from keras import backend as K\n",
    "from keras.layers import Dense, Dropout, Flatten\n",
    "from keras.layers import Conv2D, MaxPooling2D\n",
    "\n",
    "if K.image_data_format() == 'channels_first':\n",
    "    x_train_reshaped = x_train.reshape(x_train.shape[0], 1, img_rows, img_cols)\n",
    "    x_test_reshaped = x_test.reshape(x_test.shape[0], 1, img_rows, img_cols)\n",
    "    input_shape = (1, img_rows, img_cols)\n",
    "else:\n",
    "    x_train_reshaped = x_train.reshape(x_train.shape[0], img_rows, img_cols, 1)\n",
    "    x_test_reshaped = x_test.reshape(x_test.shape[0], img_rows, img_cols, 1)\n",
    "    input_shape = (img_rows, img_cols, 1)\n",
    "\n",
    "x_train_reshaped = normalize_data(x_train_reshaped)\n",
    "x_test_reshaped = normalize_data(x_test_reshaped)\n",
    "\n",
    "# train with less data (takes too long otherwise)\n",
    "x_train_small = x_train_reshaped[:6000,:]\n",
    "y_train_small = y_train_one_hot[:6000,:]\n",
    "print(x_train_small.shape)\n",
    "\n",
    "model = Sequential()\n",
    "model.add(Conv2D(32, kernel_size=(9, 9),\n",
    "                 activation='relu',\n",
    "                 input_shape=input_shape))\n",
    "model.add(Conv2D(64, (3, 3), activation='relu'))\n",
    "model.add(MaxPooling2D(pool_size=(2, 2)))\n",
    "model.add(Dropout(0.25))\n",
    "model.add(Flatten())\n",
    "model.add(Dense(128, activation='relu'))\n",
    "model.add(Dropout(0.5))\n",
    "model.add(Dense(num_classes, activation='softmax'))\n",
    "\n",
    "model.compile(\n",
    "    optimizer=\"adadelta\",\n",
    "    loss='categorical_crossentropy',\n",
    "    metrics=['accuracy'])\n",
    "\n",
    "history = fit_model(model, x_train_small, y_train_small)\n",
    "evaluate_model(model, history, x_test_reshaped, y_test_one_hot)"
   ]
  },
  {
   "cell_type": "markdown",
   "metadata": {},
   "source": [
    "<div class=\"task_description\">\n",
    "    <i class=\"task\">Task 9.6:</i> <br>\n",
    "</div>\n",
    "\n",
    "\n",
    "Nun betrachten wir die Filter in einem echten Beispiel. Wofür könnten diese zuständig sein? <br>\n",
    "\n",
    "*Now let's look at the filters in a real example. What could they be responsible for?*"
   ]
  },
  {
   "cell_type": "code",
   "execution_count": null,
   "metadata": {},
   "outputs": [],
   "source": [
    "filters = model.layers[0].get_weights()[0][:,:,0,:]\n",
    "fig=plt.figure(figsize=(16, 16), dpi= 80, facecolor='w', edgecolor='k')\n",
    "\n",
    "for i in range(1, 33):\n",
    "    plt.subplot(6,8,i)\n",
    "    plt.imshow(filters[:,:,i-1], interpolation=\"nearest\", cmap=\"gray\")\n",
    "\n",
    "plt.show()"
   ]
  },
  {
   "cell_type": "markdown",
   "metadata": {},
   "source": [
    "## Apply Model"
   ]
  },
  {
   "cell_type": "code",
   "execution_count": null,
   "metadata": {},
   "outputs": [],
   "source": [
    "input_form = \"\"\"\n",
    "<table>\n",
    "<td style=\"border-style: none;\">\n",
    "<div style=\"border: solid 2px #666; width: 143px; height: 144px;\">\n",
    "<canvas width=\"140\" height=\"140\"></canvas>\n",
    "</div></td>\n",
    "<td style=\"border-style: none;\">\n",
    "<button onclick=\"clear_value()\">Clear</button>\n",
    "<button onclick=\"classify_digit()\">Classify</button>\n",
    "</td>\n",
    "</table>\n",
    "\"\"\"\n",
    "\n",
    "javascript = '''\n",
    "<script type=\"text/Javascript\">\n",
    "    var pixels = [];\n",
    "    for (var i = 0; i < 28*28; i++) pixels[i] = 0;\n",
    "    var click = 0;\n",
    "\n",
    "    var canvas = document.querySelector(\"canvas\");\n",
    "    canvas.addEventListener(\"mousemove\", function(e){\n",
    "        if (e.buttons == 1) {\n",
    "            click = 1;\n",
    "            canvas.getContext(\"2d\").fillStyle = \"rgb(0,0,0)\";\n",
    "            canvas.getContext(\"2d\").fillRect(e.offsetX, e.offsetY, 8, 8);\n",
    "            x = Math.floor(e.offsetY * 0.2);\n",
    "            y = Math.floor(e.offsetX * 0.2) + 1;\n",
    "            for (var dy = 0; dy < 2; dy++){\n",
    "                for (var dx = 0; dx < 2; dx++){\n",
    "                    if ((x + dx < 28) && (y + dy < 28)){\n",
    "                        pixels[(y+dy)+(x+dx)*28] = 1;\n",
    "                    }\n",
    "                }\n",
    "            }\n",
    "        } else {\n",
    "            if (click == 1) set_value();\n",
    "            click = 0;\n",
    "        }\n",
    "    });\n",
    "    \n",
    "    function set_value(){\n",
    "        var result = \"\";\n",
    "        for (var i = 0; i < 28*28; i++) result += pixels[i] + \",\";\n",
    "        var kernel = IPython.notebook.kernel;\n",
    "        kernel.execute(\"image = [\" + result + \"]\");\n",
    "    }\n",
    "    \n",
    "    function clear_value(){\n",
    "        canvas.getContext(\"2d\").fillStyle = \"rgb(255,255,255)\";\n",
    "        canvas.getContext(\"2d\").fillRect(0, 0, 140, 140);\n",
    "        for (var i = 0; i < 28*28; i++) pixels[i] = 0;\n",
    "    }\n",
    "    \n",
    "    function classify_digit() {\n",
    "        IPython.notebook.execute_cells([IPython.notebook.get_selected_index()+1])\n",
    "    }\n",
    "</script>\n",
    "'''\n",
    "\n",
    "from IPython.display import HTML\n",
    "HTML(input_form + javascript)"
   ]
  },
  {
   "cell_type": "code",
   "execution_count": null,
   "metadata": {
    "hide_input": false
   },
   "outputs": [],
   "source": [
    "img_array = np.array(image)\n",
    "img_array = img_array.reshape(1, 28, 28, 1)\n",
    "predictions = model.predict(img_array)\n",
    "\n",
    "%matplotlib inline \n",
    "fig = plt.figure(figsize=(4,2))\n",
    "subplot = fig.add_subplot(1,1,1)\n",
    "subplot.set_xticks(range(10))\n",
    "subplot.set_xlim(-0.5,9.5)\n",
    "subplot.set_ylim(0,1)\n",
    "subplot.bar(range(10), predictions[0], align='center')\n",
    "fig.show()"
   ]
  },
  {
   "cell_type": "markdown",
   "metadata": {},
   "source": [
    "Anmerkung: Damit dieses Zeichentool funktioniert, muss der Code mit dem Convolutional Neural Network ausgeführt worden sein."
   ]
  },
  {
   "cell_type": "markdown",
   "metadata": {},
   "source": [
    "# Hausübung"
   ]
  },
  {
   "cell_type": "markdown",
   "metadata": {},
   "source": [
    "Bei der Abgabe der Übungen ist folgendes zu beachten: <br>\n",
    "\n",
    "* Abgaben sollten immer als Gruppe eingereicht werden. <b>Einzelabgaben werden nicht bewertet.</b>\n",
    "* Die Abgabe hat in Form eines Jupyter Notebooks zu erfolgen. Wenn Sie mehrere Dokumente abgeben wollen (z.B. zusätzliche Bilder), sollten diese als Zip-Datei abgegeben werden. </li>\n"
   ]
  },
  {
   "cell_type": "markdown",
   "metadata": {},
   "source": [
    "When submitting the exercises, the following should be considered: <br>\n",
    "\n",
    "* *Submissions should always be submitted as a group. <b>Single submissions are not scored.*\n",
    "* *The submission must be in the form of a Jupyter notebook. If you want to submit several documents (e.g. additional pictures), these should be submitted as a zip file.*\n",
    "\n"
   ]
  },
  {
   "cell_type": "markdown",
   "metadata": {},
   "source": [
    "<div class=\"task_description\">\n",
    "    <i class=\"task\">Homework 9.1:</i>\n",
    "        ::: 10 Hausaufgabenpunkte :::</div>\n",
    "\n",
    "Ihre Aufgabe ist es, ein Modell (MLP) zu entwickeln, das besser funktioniert als das Basismodell. Verschiedene Ideen\n",
    "die Sie ausprobieren können:\n",
    "* Verändern Sie die Netzwerkstruktur, z.B. die Anzahl der Knoten im Hidden Layer und/oder die Anzahl der Hidden Layers.\n",
    "* Verändern Sie die Werte der Hyperparameter, z.B. die Learning Rate.\n",
    "* Ändern Sie die Trainingsparameter, z.B. die Anzahl der Epochen.\n",
    "* Generieren Sie zusätzliche Trainingsdaten.\n",
    "* Recherchieren Sie, welche Modelle für dieses Problem besonders gut funktionieren.\n",
    "<br>\n",
    "Beachten Sie, dass Sie die Testdaten nicht kennen und daher die Gefahr besteht, dass Sie ihr Modell zu sehr an die Trainingsdaten fitten.\n",
    "<br>\n",
    "<br>\n",
    "Bitte geben Sie folgende Ergebnisse ab:\n",
    "<br>\n",
    "* Ein Jupyter Notebook mit ihrem Code\n",
    "* Eine Beschreibung der von Ihnen eingereichten Konfiguration (auch im Notebook): \n",
    "    * Welche Netzwerkstruktur und welche Hyperparameter haben Sie verwendet? \n",
    "    * Welche weiteren Veränderungen haben Sie vorgenommen? Warum halten Sie Ihre Konfiguration für am besten geeignet? \n",
    "    * Welche Varianten haben Sie verworfen?\n",
    "* Eine kurze Diskussion der zu erwartenden Klassifikationsqualität und wie Sie diese bestimmt haben(auch im Notebook).\n",
    "\n",
    "Die volle Punktzahl für die Hausaufgabe ist unabhängig vom Abschneiden in der Challenge. Grundlage für die Bewertung ist allein die sinnvolle Diskussion Ihres Beitrags."
   ]
  },
  {
   "cell_type": "markdown",
   "metadata": {},
   "source": [
    "------------------------------------------------------------------------\n",
    "\n",
    "*Your task is to develop a model that works better than the basic model. Different ideas that you can try out:*\n",
    "* *Change the network structure, e.g. the number of nodes in the hidden layer and/or the number of hidden layers.*\n",
    "* *Change the values of the hyper parameters, such as the learning rate.*\n",
    "* *Change the course parameters, for example, the number of epochs.*\n",
    "* *Generate additional course data.*\n",
    "* *Find out which models work best for this problem.*\n",
    "<br>\n",
    "\n",
    "*Note that you do not know the test data and that there is therefore a danger that you fit your model too closely to the training data.*\n",
    "<br>\n",
    "<br>\n",
    "*Please submit the following results:*<br>\n",
    "* *A Jupyter Notebook with your code*\n",
    "* *A description of the configuration you submitted (also in notebook):*\n",
    "    * *Which network structure and which hyper parameters did you use?*\n",
    "    * *What other changes have you made? Why do you think your configuration is best?*\n",
    "    * *Which variants did you reject?*\n",
    "* *A brief discussion of the expected classification quality and how you determined it(also in notebook).*\n",
    "\n",
    "*The full score for the homework is independent of the results in the challenge. The only basis for the evaluation is the meaningful discussion of your contribution.*"
   ]
  },
  {
   "cell_type": "markdown",
   "metadata": {},
   "source": [
    "<div class=\"task_description\">\n",
    "    <i class=\"task\">Homework 9.2:</i>\n",
    "        ::: 1 Extra-Klausurbonuspunkt ::: </div> \n",
    "Ein Extra-Klausurbonuspunkt wird an die 5 bestplazierten Teams vergeben. Die Endergebnisse werden in der Vorlesung präsentiert.\n"
   ]
  },
  {
   "cell_type": "markdown",
   "metadata": {},
   "source": [
    "*An extra bonus point will be awarded to the 5 best placed teams. The final results will be presented in the lecture.*"
   ]
  },
  {
   "cell_type": "markdown",
   "metadata": {},
   "source": [
    "### Code for Homework"
   ]
  },
  {
   "cell_type": "code",
   "execution_count": null,
   "metadata": {},
   "outputs": [],
   "source": [
    "import keras\n",
    "import matplotlib.pyplot as plt\n",
    "\n",
    "import numpy as np\n",
    "\n",
    "from keras.datasets import fashion_mnist\n",
    "from keras.layers import Dense, Dropout\n",
    "from keras.models import Sequential\n",
    "\n",
    "from random import randint\n",
    "\n",
    "# Preparing the dataset\n",
    "# Setup train and test splits\n",
    "(x_train, y_train), (x_test, y_test) = fashion_mnist.load_data()\n",
    "print(x_train.shape[0], 'train samples')\n",
    "print(x_test.shape[0], 'test samples')\n",
    "\n",
    "# Convert class vectors to binary class matrices\n",
    "num_classes = 10\n",
    "y_train_one_hot = keras.utils.to_categorical(y_train, num_classes)\n",
    "y_test_one_hot = keras.utils.to_categorical(y_test, num_classes)\n",
    "\n",
    "# print first 5 labels as categorial and one-hot\n",
    "for i in range(5):\n",
    "    print(y_train[i], \" -> \", y_train_one_hot[i])\n",
    "    \n",
    "# Flatten the images as we are not using CNN here\n",
    "img_rows, img_cols = 28, 28\n",
    "image_size = img_rows * img_cols\n",
    "\n",
    "batch_size = 128\n",
    "epochs = 10\n",
    "\n",
    "# normalize into [0,1]\n",
    "def normalize_data(x):\n",
    "    x = x.astype('float32')\n",
    "    x /= 255\n",
    "    return x"
   ]
  },
  {
   "cell_type": "code",
   "execution_count": null,
   "metadata": {},
   "outputs": [],
   "source": [
    "%matplotlib inline \n",
    "for i in range(64):\n",
    "    ax = plt.subplot(8, 8, i+1)\n",
    "    ax.axis('off')\n",
    "    plt.imshow(x_train[randint(0, x_train.shape[0])], cmap='Greys')\n",
    "    \n",
    "plt.show()"
   ]
  },
  {
   "cell_type": "code",
   "execution_count": null,
   "metadata": {},
   "outputs": [],
   "source": [
    "def fit_model(model, xtrain, ytrain):\n",
    "    history = model.fit(xtrain, ytrain,\n",
    "                        batch_size=batch_size,\n",
    "                        epochs=epochs,\n",
    "                        verbose=True,\n",
    "                        validation_split=.1)\n",
    "    return history\n",
    "    \n",
    "def evaluate_model(model, history, xtest, ytest):\n",
    "\n",
    "\n",
    "    score = model.evaluate(xtest, ytest, verbose=False)\n",
    "\n",
    "    plt.plot(history.history['acc'])\n",
    "    plt.plot(history.history['val_acc'])\n",
    "    plt.title('model accuracy')\n",
    "    plt.ylabel('accuracy')\n",
    "    plt.xlabel('epoch')\n",
    "    plt.legend(['training', 'validation'], loc='best')\n",
    "    plt.show()\n",
    " \n",
    "    print(\"Test loss: \", score[0])\n",
    "    print(\"Test accuracy: \", score[1])"
   ]
  },
  {
   "cell_type": "code",
   "execution_count": null,
   "metadata": {},
   "outputs": [],
   "source": [
    "print(\"Original shape: \", x_train.shape)\n",
    "x_train_reshaped = x_train.reshape(x_train.shape[0], image_size)\n",
    "x_test_reshaped = x_test.reshape(x_test.shape[0], image_size)\n",
    "print(\"After flattening: \", x_train_reshaped.shape)\n",
    "\n",
    "x_train_reshaped = normalize_data(x_train_reshaped)\n",
    "x_test_reshaped = normalize_data(x_test_reshaped)\n",
    "\n",
    "model = Sequential()\n",
    "model.add(Dense(128, activation='relu', input_shape=(image_size,)))\n",
    "model.add(Dropout(0.2))\n",
    "model.add(Dense(128, activation='relu'))\n",
    "model.add(Dropout(0.2))\n",
    "model.add(Dense(num_classes, activation='softmax'))\n",
    "\n",
    "model.compile(\n",
    "    optimizer=\"sgd\",\n",
    "    loss='categorical_crossentropy',\n",
    "    metrics=['accuracy'])\n",
    "\n",
    "history = fit_model(model, x_train_reshaped, y_train_one_hot)\n",
    "evaluate_model(model, history, x_test_reshaped, y_test_one_hot)"
   ]
  }
 ],
 "metadata": {
  "kernelspec": {
   "display_name": "Python 3",
   "language": "python",
   "name": "python3"
  },
  "language_info": {
   "codemirror_mode": {
    "name": "ipython",
    "version": 3
   },
   "file_extension": ".py",
   "mimetype": "text/x-python",
   "name": "python",
   "nbconvert_exporter": "python",
   "pygments_lexer": "ipython3",
   "version": "3.6.8"
  },
  "varInspector": {
   "cols": {
    "lenName": 16,
    "lenType": 16,
    "lenVar": 40
   },
   "kernels_config": {
    "python": {
     "delete_cmd_postfix": "",
     "delete_cmd_prefix": "del ",
     "library": "var_list.py",
     "varRefreshCmd": "print(var_dic_list())"
    },
    "r": {
     "delete_cmd_postfix": ") ",
     "delete_cmd_prefix": "rm(",
     "library": "var_list.r",
     "varRefreshCmd": "cat(var_dic_list()) "
    }
   },
   "types_to_exclude": [
    "module",
    "function",
    "builtin_function_or_method",
    "instance",
    "_Feature"
   ],
   "window_display": false
  }
 },
 "nbformat": 4,
 "nbformat_minor": 2
}
