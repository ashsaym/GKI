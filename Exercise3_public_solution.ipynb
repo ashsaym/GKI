{
 "cells": [
  {
   "cell_type": "code",
   "execution_count": null,
   "metadata": {},
   "outputs": [],
   "source": [
    "from IPython.core.display import HTML\n",
    "\n",
    "HTML(\"<style>\" + open(\"style.css\").read() + \"</style>\")"
   ]
  },
  {
   "cell_type": "markdown",
   "metadata": {},
   "source": [
    "<div class=\"headline\">\n",
    "Grundlagen künstlicher Intelligenz\n",
    "<br><br>\n",
    "Sommersemester 2019\n",
    "</div>\n",
    "<br>\n",
    "<div class=\"description\">\n",
    "    Übung zum Thema <i id=\"topic\">\"Uninformierte Suche\"</i>\n",
    "    <br><br>\n",
    "    Deadline Abgabe: <i #id=\"submission\">Freitag, 17.5.2019 (23:55 Uhr)</i>\n",
    "</div>"
   ]
  },
  {
   "cell_type": "markdown",
   "metadata": {},
   "source": [
    "# Präsenzübung"
   ]
  },
  {
   "cell_type": "markdown",
   "metadata": {},
   "source": [
    "## Suchen"
   ]
  },
  {
   "cell_type": "markdown",
   "metadata": {},
   "source": [
    "<div class=\"task_description\">\n",
    "    <i class=\"task\">Task 3.1:</i> <br>\n",
    "Sie  möchten genau einen Liter Wasser abmessen, haben aber nur zwei Eimer zur Verfügung, die 5 und 3 Liter Wasser fassen. Formulieren Sie das Problem als Suche, d.h. formulieren Sie den Zustandsraum (states), Ausgangszustand (initial state), Ziel (goal), mögliche Handlungen (actions) sowie die Nachfolge-Funktion (successor function) an. Zeichnen Sie den Zustandsgraph als Baum. Ignorieren Sie dabei Übergänge die im selben Zustand bleiben, z.b. Entleeren eines leeren Eimers.\n",
    "</div>"
   ]
  },
  {
   "cell_type": "markdown",
   "metadata": {},
   "source": [
    "*You want to measure exactly one liter of water, but only have two buckets available that hold 5 and 3 liters of water. Formulate the problem as a search, i.e. formulate the state space (states), initial state, goal, possible actions, and the successor function. Draw the state graph as a tree. Ignore transitions that remain in the same state, e.g. Empty an empty bucket.*"
   ]
  },
  {
   "cell_type": "markdown",
   "metadata": {},
   "source": [
    "<strong style=\"color: blue\">Lösung:</strong>\n",
    "\n",
    "Repräsentation der Zustände als Füllstand der beiden Eimer. Dabei steht die erste Zahl für den 5-Liter Eimer, die zweite für den 3-Liter Eimer.\n",
    "* Beide Eimer leer: (0,0) \n",
    "* Beide Eimer voll: (5,3)\n",
    "* Ausgangszustand: (0,0) \n",
    "* Zielzustand: (x,1) oder (1,x) \n",
    "* Actions: Beim Umschütten kann überschüssiges Wasser behalten werden oder überlaufen, leer ist leer.\n",
    "  * Füllen: (5,0), (0,3), (5,3)\n",
    "  * Entleeren: (-5,0), (0,-3), (-5,-3)\n",
    "  * Umschütten: (vol_1 + vol_2, -vol_2), (-vol_1, vol_2 + vol_1)\n",
    "* Successor Function: state + action = state"
   ]
  },
  {
   "cell_type": "markdown",
   "metadata": {},
   "source": [
    "<div class=\"task_description\">\n",
    "    <i class=\"task\">Task 3.2:</i> <br>\n",
    "Gegeben sei die Problembeschreibung durch die Karte Rumäniens. Sie wollen von Faragas nach Pitesti reisen. Der Ausgangszustand (initial state) und der Zielzustand (goal state) sind entsprechend anzupassen.\n",
    "</div>\n",
    "\n",
    "1. Notieren Sie die/ eine mögliche Reihenfolge der Knoten, die sie mit Breath-first search erzeugen und expandieren, bis Sie einen Pfad gefunden haben.<br>\n",
    "\n",
    "2. Notieren Sie die/eine mögliche Reihenfolge der Knoten, die sie mit Depth-first search erzeugen und expandieren, bis Sie einen Pfad gefunden haben."
   ]
  },
  {
   "cell_type": "markdown",
   "metadata": {},
   "source": [
    "*Given the problem description by the map of Romania. You want to travel from Faragas to Pitesti. The initial state and the goal state must be adjusted accordingly.*\n",
    "1. *Note the possible order of the nodes you create with Breath-first search and expand until you find a path.*\n",
    "2. *Note the possible order of the nodes that you create with Depth-first search and expand until you find a path.*"
   ]
  },
  {
   "cell_type": "markdown",
   "metadata": {},
   "source": [
    "![Karte Rumaenien](img/exercise3/Karte_Romania.png)"
   ]
  },
  {
   "cell_type": "markdown",
   "metadata": {},
   "source": [
    "<div class=\"alert alert-info\">\n",
    "    <ol>\n",
    "        <li><b>Mögliche Lösung:</b> Fagaras, Sibiu, Bucharest, Oradea, Arad, Rimnicu Vilcea, Pitesti</li><br>\n",
    "        <li><b>Mögliche Lösung 1:</b> Fagaras, Sibiu, Oradea, Arad, Rimnicu Vilcea, Pitesti <br>\n",
    "            <b>Mögliche Lösung 2:</b> Fagaras, Bucharest, Pitesti <br>\n",
    "            <i>(Reihenfolge der Knoten, in der sie expandiert werden)</i> <br><br>            \n",
    "            Weg für Möglichkeit 1:\n",
    "            <ol class=\"lower_alpha\">\n",
    "                <li> Expandiere Fagaras, zum Saum kommen Sibiu und Bucharest </li>\n",
    "                <li> Expandiere Sibiu, zum Saum kommen Oradea, Rimnicu Vilcea und Arad </li>\n",
    "                <li> Expandiere Oradea, zum Saum kommt Zerind </li>\n",
    "                <li> Expandiere Zerind.\n",
    "                    <ol class=\"lower_roman\">\n",
    "                        <li> Möglichkeit: Füge Arad noch einmal zu Saum (fringe) hinzu und expandiere dann weiter Arad. </li>\n",
    "                        <li> Möglichkeit: Überprüfe, ob Arad schon im Saum (fringe) ist (ist es) und füge es nicht noch einmal zum Saum hinzu. Dann nehme das schon in den Saum gefügte Arad aus dem Saum und expandiere es weiter. </li>\n",
    "                    </ol>\n",
    "                    -> Egal, wie man es macht, nach Zerind wird Arad expandiert.\n",
    "                </li>\n",
    "                <li> Der weitere Weg ist trivial (siehe oben) </li>\n",
    "            </ol>\n",
    "        </li>\n",
    "    </ol>\n",
    "</div>"
   ]
  },
  {
   "cell_type": "markdown",
   "metadata": {},
   "source": [
    "## O-Notation"
   ]
  },
  {
   "cell_type": "markdown",
   "metadata": {},
   "source": [
    "<div class=\"task_description\">\n",
    "    <i class=\"task\">Task 3.3:</i> <br>\n",
    "Geben Sie eine möglichst genaue Abschätzung der Laufzeitkomplexität (time-complexity) an.</div>"
   ]
  },
  {
   "cell_type": "markdown",
   "metadata": {},
   "source": [
    "*Provide an estimate of the runtime complexity that is as accurately as possible.*"
   ]
  },
  {
   "cell_type": "markdown",
   "metadata": {},
   "source": [
    "|Schritte    |              O(?)     \n",
    "|:-|:-|\n",
    "|111|\n",
    "|56n + 7426265|\n",
    "|56n+4n<sup>2</sup> +n<sup>3</sup>|\n",
    "|logn + logloglogn|\n"
   ]
  },
  {
   "cell_type": "markdown",
   "metadata": {},
   "source": [
    "<div class=\"alert alert-info\">\n",
    "    <table>\n",
    "        <tr>\n",
    "            <th> Schritte </th>\n",
    "            <th> O(?) </th>\n",
    "        </tr>\n",
    "        <tr>\n",
    "            <td> 111 </td>\n",
    "            <td> O(1)</td>\n",
    "        </tr>\n",
    "        <tr>\n",
    "            <td> 56n + 7426265 </td>\n",
    "            <td> O(n) </td>\n",
    "        </tr>\n",
    "        <tr>\n",
    "            <td> 56n + 4n<sup>2</sup></td>\n",
    "            <td> O(n<sup>2</sup>) </td>\n",
    "        </tr>\n",
    "        <tr>\n",
    "            <td> logn + logloglogn </td>\n",
    "            <td> O(logn) </td>\n",
    "        </tr>\n",
    "    </table>\n",
    "</div>"
   ]
  },
  {
   "cell_type": "markdown",
   "metadata": {},
   "source": [
    "## Programmierung"
   ]
  },
  {
   "cell_type": "markdown",
   "metadata": {},
   "source": [
    "<div class=\"task_description\">\n",
    "    <i class=\"task\">Task 3.4:</i> <br>\n",
    "Im 8-Damen Problem sollen 8 Damen so auf dem Brett platziert werden, dass sie sich gegenseitig nicht schlagen können. Implementieren Sie mit der gegebenen Repräsentation des Bretts einen Test ob eine ausgewählte Dame in Konflikt mit anderen steht oder nicht. Wir vereinfachen auf den Fall mit 5 Damen.\n",
    "</div>"
   ]
  },
  {
   "cell_type": "markdown",
   "metadata": {},
   "source": [
    "*In the 8 queens problem, 8 queens should be placed on the board in such a way that they cannot beat each other. Implement with the given representation of the board a test whether a selected queen is in conflict with others or not. We simplify to 5 queens.*"
   ]
  },
  {
   "cell_type": "markdown",
   "metadata": {},
   "source": [
    "![Acht-Damen Problem](img/exercise3/eight_queens.png)"
   ]
  },
  {
   "cell_type": "code",
   "execution_count": null,
   "metadata": {},
   "outputs": [],
   "source": [
    "import random\n",
    "\n",
    "\n",
    "#A function that formats the board correctly when printing it \n",
    "def print_board(board):\n",
    "    for row in board:\n",
    "        print(row)\n",
    "\n",
    "\n",
    "#Give the column of the queen that is positioned in the given row\n",
    "def get_queen_col(board, row):\n",
    "    for i in range(len(board[row])):\n",
    "        if board[row][i] == 1:\n",
    "            return i\n",
    "        \n",
    "\n",
    "#Check if the tile in row and col actually exists \n",
    "#(Use it to prevent IndexOutOfBoundsExceptions when checking lines)\n",
    "def valid_tile(board, row, col):\n",
    "    num_rows = len(board)\n",
    "    num_cols = len(board[0])\n",
    "    \n",
    "    valid_row = row >= 0 and row < num_rows\n",
    "    valid_col = col >= 0 and col < num_cols\n",
    "    \n",
    "    return  valid_row and valid_col \n",
    "\n",
    "\n",
    "#Check a line for other queens\n",
    "def check_line(board, row, col, dir_x, dir_y):\n",
    "    while valid_tile(board, row + dir_y, col + dir_x):\n",
    "        row += dir_y\n",
    "        col += dir_x\n",
    "        \n",
    "        print(\"Checking position ({:d}, {:d})\".format(row, col))\n",
    "        if board[row][col] == 1:\n",
    "            print(\"Found conflict at position ({:d}, {:d})\".format(row, col))\n",
    "            return True\n",
    "        \n",
    "    return False\n",
    "\n",
    "\n",
    "#Check if the queen's position is actually valid\n",
    "def is_valid_position(board, row):\n",
    "    col = get_queen_col(board, row)\n",
    "    \n",
    "    #Check the queen's column\n",
    "    if check_line(board, row, col, 0, 1) or check_line(board, row, col, 0, -1):\n",
    "        return False\n",
    "    \n",
    "    #Check the first diagonal line\n",
    "    if check_line(board, row, col, -1, -1) or check_line(board, row, col, 1, 1):\n",
    "        return False\n",
    "    \n",
    "    #Check the second diagonal line\n",
    "    if check_line(board, row, col, -1, 1) or check_line(board, row, col, 1, -1):\n",
    "        return False\n",
    "    \n",
    "    return True\n",
    "\n",
    "\n",
    "size = 5\n",
    "board = [[0 for i in range(size)] for j in range(size)]\n",
    "for i in range(5):\n",
    "    j = random.randint(0,4)\n",
    "    board[i][j] = 1\n",
    "    \n",
    "    \n",
    "print_board(board)\n",
    "print(\"Valid position?\", is_valid_position(board, 2))"
   ]
  },
  {
   "cell_type": "markdown",
   "metadata": {},
   "source": [
    "<div class=\"task_description\">\n",
    "    <i class=\"task\">Task 3.5:</i> <br>\n",
    "Untenstehend finden Sie Code für die Breitensuche und die Tiefensuche. Es wird ein Suchraum definiert und dann die beiden Suchstrategien auf das Problem angewendet.\n",
    "</div>"
   ]
  },
  {
   "cell_type": "markdown",
   "metadata": {},
   "source": [
    "*  Zu welchem Ergebnis kommen die beiden Strategien?\n",
    "*  Lassen Sie sich nun nach jeder Iteration jeweils den Stack bzw. die Queue ausgeben. Gehen Sie die Ausgabe Schritt für Schritt durch und stellen Sie sicher, dass Sie den Algorithmus verstehen.\n",
    "*  Vergleichen Sie: wie oft wird die Hauptschleife durchlaufen (Time Complexity)? Wie viele Knoten werden maximal im Speicher behalten (Space Complexity)?\n",
    "*  Experimentieren Sie nun mit verschiedenen Zielknoten und vergleichen Sie die Unterschiede."
   ]
  },
  {
   "cell_type": "markdown",
   "metadata": {},
   "source": [
    "*Below you will find code for Breadth-first search and Depth-first search. A search space is defined and then the two search strategies are applied to the problem.*\n",
    "* *What are the results of the two strategies?*\n",
    "* *After each iteration, let each stack or queue be output. Go through the output step by step and make sure you understand the algorithm.*\n",
    "* *Compare: how often is the main loop (Time Complexity) run through? How many nodes are kept in memory at maximum (Space Complexity)?*\n",
    "* *Now experiment with different target nodes and compare the differences.*"
   ]
  },
  {
   "cell_type": "code",
   "execution_count": null,
   "metadata": {},
   "outputs": [],
   "source": [
    "import collections\n",
    "\n",
    "def bfs(graph, root):\n",
    "    seen = set([root])\n",
    "    queue = collections.deque([root])\n",
    "    while queue:\n",
    "        print(\"Queue: \", queue)\n",
    "        vertex = queue.popleft()\n",
    "        print(\"Expand: \", vertex)\n",
    "        for node in graph[vertex]:\n",
    "            if node not in seen:\n",
    "                seen.add(node)\n",
    "                queue.append(node)\n",
    "\n",
    "def dfs(graph, root):\n",
    "    seen = set([root])\n",
    "    stack = [root]\n",
    "    while stack:\n",
    "        print(\"Stack: \", stack)\n",
    "        vertex = stack.pop()\n",
    "        print(\"Expand: \", vertex)\n",
    "        for node in graph[vertex]:\n",
    "            if node not in seen:\n",
    "                seen.add(node)\n",
    "                stack.append(node)\n",
    "\n",
    "graph = {1: [2, 3], 2: [4, 5], 3: [6,7,8], 4: [], 5: [], 6: [], 7: [], 8: []} \n",
    "\n",
    "print(\"BFS\")\n",
    "bfs(graph, 1)\n",
    "print()\n",
    "print(\"DFS\")\n",
    "dfs(graph, 1)"
   ]
  },
  {
   "cell_type": "markdown",
   "metadata": {},
   "source": [
    "### Example from Lecture"
   ]
  },
  {
   "cell_type": "code",
   "execution_count": null,
   "metadata": {},
   "outputs": [],
   "source": [
    "graph = {\n",
    "    \"A\": [\"B\",\"C\"],\n",
    "    \"B\": [\"D\",\"E\"],\n",
    "    \"C\": [\"F\",\"G\"],\n",
    "    \"D\": [\"H\",\"I\"],\n",
    "    \"E\": [\"J\",\"K\"],\n",
    "    \"F\": [], \"G\": [], \"H\": [], \"I\": [], \"J\": [], \"K\": []\n",
    "} \n",
    "\n",
    "print(\"DFS\")\n",
    "#dfs(graph, \"A\")"
   ]
  },
  {
   "cell_type": "markdown",
   "metadata": {},
   "source": [
    "<div class=\"task_description\">\n",
    "    <i class=\"task\">Task 3.6:</i> <br>\n",
    "Was müssen Sie ändern um Iterative Deepening zu implementieren?\n",
    "</div>"
   ]
  },
  {
   "cell_type": "markdown",
   "metadata": {},
   "source": [
    "*What do you have to change to implement iterative deepening?*"
   ]
  },
  {
   "cell_type": "code",
   "execution_count": null,
   "metadata": {},
   "outputs": [],
   "source": [
    "def dfs_recursive(graph, root, depth):\n",
    "    if depth == 0:\n",
    "        return\n",
    "    \n",
    "    print(\"Expanding:\", root)\n",
    "    \n",
    "    for node in graph[root]:\n",
    "        dfs(graph, node, depth-1)\n",
    "\n",
    "        \n",
    "def dfs_iterative(graph, root, depth):\n",
    "    stack = [(root, 0)]\n",
    "    \n",
    "    while stack:\n",
    "        vertex, d = stack.pop()\n",
    "        \n",
    "        print(\"Expanding:\", vertex)\n",
    "        \n",
    "        if d < depth:\n",
    "            for node in graph[vertex]:\n",
    "                stack.append((node, d+1))\n",
    "        \n",
    "        \n",
    "def iterative_deepening(graph, root, max_depth):\n",
    "    for depth in range(1, max_depth):\n",
    "        print(\"============\")\n",
    "        dfs_recursive(graph, root, depth)\n",
    "        \n",
    "iterative_deepening(graph, \"A\", 5)"
   ]
  },
  {
   "cell_type": "markdown",
   "metadata": {},
   "source": [
    "# Hausübung"
   ]
  },
  {
   "cell_type": "markdown",
   "metadata": {},
   "source": [
    "<div class=\"task_description\">\n",
    "    <i class=\"task\">Homework 3.1:</i>\n",
    "        :::4 Hausaufgabenpunkte :::</div>\n",
    "        \n",
    "Ein Bauer möchte einen Kohlkopf, sein Schaf und seinen Hund mit einem Boot über die Ruhr von Duisburg nach Mülheim bringen. \n",
    "\n",
    "* Das Boot am Ufer kann neben dem Bauern allerdings nur ein Tier oder den Kohlkopf aufnehmen. \n",
    "* Nur der Bauer kann das Boot bedienen und der Hund kann nicht mit dem Schaf bzw. das Schaf nicht mit dem Kohlkopf alleine auf einer Seite gelassen werden.\n",
    "\n",
    "Bestimmen Sie eine Reihenfolge von Bootfahrten mit der der Kohlkopf, das Schaf, der Bauer und sein Hund auf der anderen Uferseite ankommen ohne die oben genannten Bedingungen zu verletzen. Formulieren Sie dazu das Problem als Suche. Geben Sie die Repräsentation der Zustände, den Ausgangszustand, den Zielzustand, die möglichen Aktionen, sowie die Nachfolge-Funktion (successor function) an. <br> \n",
    "Begründen Sie kurz, warum Sie sicher/nicht sicher sind, dass der gefundene Pfad die minimal nötige Anzahl von Flussüberquerungen aufweist. Zeichnen Sie den Zustandsgraphen.\n",
    "</div>"
   ]
  },
  {
   "cell_type": "markdown",
   "metadata": {},
   "source": [
    "*A farmer wants to take a cabbage, his sheep and his dog across the Ruhr from Duisburg to Mülheim by boat.*\n",
    "* *The boat on the shore, however, can accommodate only one animal or the cabbage besides the farmer.*\n",
    "* *Only the farmer can operate the boat and the dog can not be left alone with the sheep or the sheep with the cabbage alone on one side.*\n",
    "*Determine a sequence of boat tours with which the cabbage, the sheep, the farmer, and his dog arrive on the other side of the river without violating the above conditions. Formulate the problem as a search. Specify the representation of the states, the initial state, the target state, the possible actions as well as the the successor function.<br>\n",
    "Give a brief explanation as to why you are certain / not certain that the path found has the minimum number of river crossings required. Draw the state graph.*"
   ]
  },
  {
   "cell_type": "markdown",
   "metadata": {},
   "source": [
    "<div class=\"task_description\">\n",
    "    <i class=\"task\">Homework 3.2:</i>\n",
    "        :::3 Hausaufgabenpunkte :::</div>\n",
    "        \n",
    "Unten sehen Sie einen Ausschnitt des Duisburger U-Bahn-Netzes. Formalisieren Sie den Netzplan als Suchbaum mit Duisburg Hbf als Startzustand. Berücksichtigen Sie die folgenden Vereinfachungen:\n",
    "* Parallele Linien werden als einfache Verbindung interpretiert.\n",
    "* Der Abstand zwischen zwei benachbarten Stationen ist immer gleich.\n",
    "\n",
    "Repräsentieren sie den Suchbaum als Datenstruktur in Python. Orientieren Sie sich dabei an dem obenstehenden Code."
   ]
  },
  {
   "cell_type": "markdown",
   "metadata": {},
   "source": [
    "*Below you can see a section of the Duisburg subway network. Formalize the network as a search tree with Duisburg Hbf as the initial state. Consider the following simplifications:* <br>\n",
    "\n",
    "* *Parallel lines are interpreted as a simple connection.*\n",
    "* *The distance between two adjacent stations is always the same.*\n",
    "\n",
    "*Represent the search tree as a data structure in python. Orient yourself by the code above.*"
   ]
  },
  {
   "cell_type": "markdown",
   "metadata": {},
   "source": [
    "![U-Bahn Duisburg](img/exercise3/Duisburg_UBahn_Ausschnitt.png)"
   ]
  },
  {
   "cell_type": "markdown",
   "metadata": {},
   "source": [
    "<div class=\"task_description\">\n",
    "    <i class=\"task\">Homework 3.3:</i>\n",
    "        :::3 Hausaufgabenpunkte :::</div>\n",
    "\n",
    "Sie wollen herausfinden, durch welche U-Bahn Stationen sie vom Hauptbahnhof bis zum Zoo fahren müssen.\n",
    "* Führen Sie eine Breitensuche durch und geben Sie für jede Iteration den Inhalt der Queue an.\n",
    "* Führen Sie eine Tiefensuche durch und geben Sie für jede Iteration den Inhalt des Stacks an.\n",
    "\n",
    "Falls Ihnen die Implementierung des Problems nicht gelingt, können Sie Stack und Queue auch manuell berechnen. Kommentieren Sie in diesem Fall jeden Schritt.        "
   ]
  },
  {
   "cell_type": "markdown",
   "metadata": {},
   "source": [
    "*You want to find out which subway stations you have to pass when travelling from the main station to the zoo.*\n",
    "* *Perform a Breadth-first search and specify the contents of the queue for each iteration.*\n",
    "* *Perform a Depth-first search and specify the contents of the stack for each iteration.\n",
    "*If you do not succeed in implementing the problem, you can also manually calculate the stack and queue. In this case, comment on each step.*"
   ]
  }
 ],
 "metadata": {
  "kernelspec": {
   "display_name": "Python 3",
   "language": "python",
   "name": "python3"
  },
  "language_info": {
   "codemirror_mode": {
    "name": "ipython",
    "version": 3
   },
   "file_extension": ".py",
   "mimetype": "text/x-python",
   "name": "python",
   "nbconvert_exporter": "python",
   "pygments_lexer": "ipython3",
   "version": "3.7.3"
  },
  "varInspector": {
   "cols": {
    "lenName": 16,
    "lenType": 16,
    "lenVar": 40
   },
   "kernels_config": {
    "python": {
     "delete_cmd_postfix": "",
     "delete_cmd_prefix": "del ",
     "library": "var_list.py",
     "varRefreshCmd": "print(var_dic_list())"
    },
    "r": {
     "delete_cmd_postfix": ") ",
     "delete_cmd_prefix": "rm(",
     "library": "var_list.r",
     "varRefreshCmd": "cat(var_dic_list()) "
    }
   },
   "types_to_exclude": [
    "module",
    "function",
    "builtin_function_or_method",
    "instance",
    "_Feature"
   ],
   "window_display": false
  }
 },
 "nbformat": 4,
 "nbformat_minor": 2
}
