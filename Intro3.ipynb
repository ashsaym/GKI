{
 "cells": [
  {
   "cell_type": "code",
   "execution_count": 21,
   "metadata": {},
   "outputs": [
    {
     "data": {
      "text/html": [
       "<style>/* Style des gesamten Dokuments */\n",
       "#notebook-container {\n",
       "\tfont-family: \"NimbusMonL-ReguObli\";\n",
       "\tfont-size: 120%\n",
       "}\n",
       "\n",
       "/* Style für die Überschrift: Zentriert diese und stellt sie fett dar. */\n",
       ".headline {\n",
       "\ttext-align: center;\n",
       "\tfont-weight: bold;\n",
       "\tfont-size: 185.7%\n",
       "}\n",
       "\n",
       "/* Style für die Aufgabenbeschreibung. Z.B.: \"Übung zum Thema...\" */\n",
       ".description {\n",
       "\ttext-align: center;\n",
       "\tfont-size: 145.7%\n",
       "}\n",
       "\n",
       "/* Hebt das Abgabedatum fett und kursiv hervor */\n",
       "#submission {\n",
       "\tfont-weight: bold;\n",
       "}\n",
       "\n",
       "/* Style für das eigentliche Thema. Z.B.: \"Intelligenz\" */\n",
       "#topic {\n",
       "\tfont-style: italic;\n",
       "}\n",
       "\n",
       ".task_description {\n",
       "\n",
       "}\n",
       "\n",
       "/* Hebt die Aufgabennummerierung fett hervor. */\n",
       ".task {\n",
       "\tfont-style: normal;\n",
       "\tfont-weight: bold;\n",
       "}\n",
       "\n",
       "/* Style einer Code-Cell */\n",
       ".CodeMirror-code {\n",
       "\tbackground-color: #ededed\n",
       "}\n",
       "\n",
       "/* Style eines Kommentars im Code ändern. */\n",
       ".cm-s-ipython span.cm-comment {\n",
       "\n",
       "}\n",
       "\n",
       ".cm-s-ipython span.cm-atom {\n",
       "\n",
       "}\n",
       "\n",
       ".cm-s-ipython span.cm-number {\n",
       "\n",
       "}\n",
       "\n",
       "/* Style eines Python-Keywords ändern */\n",
       ".cm-s-ipython span.cm-keyword {\n",
       "\tcolor: #B000B0\n",
       "}\n",
       "\n",
       ".cm-s-ipython span.cm-def {\n",
       "\n",
       "}\n",
       "\n",
       "/* Style einer Python-Variable ändern */\n",
       ".cm-s-ipython span.cm-variable {\n",
       "\t\n",
       "}\n",
       "\n",
       "/* Style einer Property ändern */\n",
       ".cm-s-ipython span.cm-property {\n",
       "\t\n",
       "}\n",
       "\n",
       "/* Style eines Python-Operators ändern */\n",
       ".cm-s-ipython span.cm-operator {\n",
       "\t\n",
       "}\n",
       "\n",
       "/* Style eines Python-Strings ändern */\n",
       ".cm-s-ipython span.cm-string {\n",
       "\tcolor: brown;\n",
       "}\n",
       "\n",
       "/* Style einer eingebauten Funktion ändern (z.B. \"open\") */\n",
       ".cm-s-ipython span.cm-builtin {\n",
       "\t\n",
       "}\n",
       "\n",
       "/* Hebt hervor, welche Klammern zueinander passen */\n",
       ".cm-s-ipython .CodeMirror-matchingbracket {\n",
       "\t\n",
       "}\n",
       "\n",
       ".cm-s-ipython span.cm-variable-2 {\n",
       "\n",
       "}</style>"
      ],
      "text/plain": [
       "<IPython.core.display.HTML object>"
      ]
     },
     "execution_count": 21,
     "metadata": {},
     "output_type": "execute_result"
    }
   ],
   "source": [
    "from IPython.core.display import HTML\n",
    "\n",
    "HTML(\"<style>\" + open(\"style.css\").read() + \"</style>\")"
   ]
  },
  {
   "cell_type": "markdown",
   "metadata": {},
   "source": [
    "<div class=\"headline\">\n",
    "Grundlagen künstlicher Intelligenz\n",
    "</div>"
   ]
  },
  {
   "cell_type": "markdown",
   "metadata": {},
   "source": [
    "<div class=\"headline\">\n",
    "    Sommersemester 2019\n",
    "</div>"
   ]
  },
  {
   "cell_type": "markdown",
   "metadata": {},
   "source": [
    "<div class=\"description\">\n",
    "    Einführung III\n",
    "</div>"
   ]
  },
  {
   "cell_type": "markdown",
   "metadata": {},
   "source": [
    "### Functions"
   ]
  },
  {
   "cell_type": "markdown",
   "metadata": {},
   "source": [
    "As you already know, Python gives you many built-in functions like ```print()```, ```len()``` etc. but you can also create your own functions. These functions are called user-defined functions.\n",
    "\n",
    "Functions are little self-contained programs that perform a specific task, which you can incorporate into your own, larger programs. After you have created a function, you can use it at any time, in any place. This saves time and without repetitions of code your programm will be more readable for other people.\n",
    "\n",
    "We start with the keyword ```def``` which is followed by the name of the function and the indicator for the function’s arguments. We list the arguments giving them the names that will be used in the definition of the function. These names have nothing to do with any name that may appear outside the function definition. The line ends with a colon and what follows, the definition of the function, is indented.\n",
    "This indented block carries the actual working of the function.\n",
    "\n",
    "By using the keyword ```return``` – which can only be used in a function –  the calculated value is returned."
   ]
  },
  {
   "cell_type": "markdown",
   "metadata": {},
   "source": [
    "Below you can see a function which, given a list, prints out the total length of elements in the list."
   ]
  },
  {
   "cell_type": "code",
   "execution_count": 22,
   "metadata": {},
   "outputs": [
    {
     "data": {
      "text/plain": [
       "7"
      ]
     },
     "execution_count": 22,
     "metadata": {},
     "output_type": "execute_result"
    }
   ],
   "source": [
    "def total_length(list):\n",
    "    sum = 0\n",
    "    for element in list:\n",
    "        sum = sum + len(element)\n",
    "    return sum\n",
    "\n",
    "total_length(['123', 'xyz', 'a'])"
   ]
  },
  {
   "cell_type": "markdown",
   "metadata": {},
   "source": [
    "One more example: This function finds the length of the longest element in a list."
   ]
  },
  {
   "cell_type": "code",
   "execution_count": 23,
   "metadata": {},
   "outputs": [
    {
     "data": {
      "text/plain": [
       "12"
      ]
     },
     "execution_count": 23,
     "metadata": {},
     "output_type": "execute_result"
    }
   ],
   "source": [
    "def longest_element(list):\n",
    "    longest = len(list[0]) # initializes the length of the longest element as the length of the first element\n",
    "    for element in list:\n",
    "        if len(element) > longest:\n",
    "            longest = len(element)\n",
    "    return longest\n",
    "\n",
    "longest_element([\"Python\",\"GKI\",\"Introduction\"])"
   ]
  },
  {
   "cell_type": "markdown",
   "metadata": {},
   "source": [
    "### Import\n",
    "Suppose we have written a really useful function that we want to use in many different scripts.\n",
    "We can, of course, just copy the function’s definition from one script to another. However, if we change the function definition in one script we have to repeat the edit in all our scripts.\n",
    "What we want is a mechanism to use a single definition in multiple scripts. This is called “importing the function”.\n",
    "The import of only one function can cause problems, so it is better to import a module with this function. A module is a file consisting of Python code. It can define functions, variables and classes."
   ]
  },
  {
   "cell_type": "markdown",
   "metadata": {},
   "source": [
    "#### The import statement:\n",
    "You can use any Python source file as a module by executing an import statement in some other Python source file. 'import' has the following syntax:\n",
    "```py\n",
    "import module1[, module2[,... moduleN]\n",
    "```"
   ]
  },
  {
   "cell_type": "markdown",
   "metadata": {},
   "source": [
    "#### The from...import statement\n",
    "Python’s 'from...import' statement lets you import specific attributes from a module into the current namespace:\n",
    "```py\n",
    "from modname import name1[, name2[, ... nameN]]\n",
    "```"
   ]
  },
  {
   "cell_type": "markdown",
   "metadata": {},
   "source": [
    "#### The from...import * statement: \n",
    "It is also possible to import all names from a module into the current namespace by using the following import statement:\n",
    "```py\n",
    "from modname import *\n",
    "```"
   ]
  },
  {
   "cell_type": "markdown",
   "metadata": {},
   "source": [
    "<div class=\"task_description\">\n",
    "    <i class=\"task\">Task III.1:</i>\n",
    "Given two integer numbers b and c find the minimum of these two numbers and print the name of the minimum. In case b equals c print ’b and c are equal’. Write a function to solve this task: You can test your program with following data:\n",
    "\n",
    "   1. b = 6, c = 9\n",
    "   2. b = 4, c = 4\n",
    "   3. b= 23, c = 2\n",
    "</div>"
   ]
  },
  {
   "cell_type": "code",
   "execution_count": 24,
   "metadata": {},
   "outputs": [
    {
     "name": "stdout",
     "output_type": "stream",
     "text": [
      "b is the minimum\n",
      "b and c are equal\n",
      "c is the minimum\n"
     ]
    }
   ],
   "source": [
    "def min(b,c):\n",
    "    if b < c:\n",
    "        print ('b is the minimum')\n",
    "    elif b == c:\n",
    "        print ('b and c are equal')\n",
    "    else:\n",
    "        print ('c is the minimum')\n",
    "\n",
    "min(6, 9) # 1.\n",
    "min(4, 4) # 2.\n",
    "min(23, 2) # 3."
   ]
  },
  {
   "cell_type": "markdown",
   "metadata": {},
   "source": [
    "<div class=\"task_description\">\n",
    "    <i class=\"task\">Task III.2:</i><br>\n",
    "Given is a list print out the total length of the list’s elements.\n",
    "For example: total_length([’123’, ’xyz’, ’a’]) returns 7.\n",
    "</div>"
   ]
  },
  {
   "cell_type": "code",
   "execution_count": 25,
   "metadata": {},
   "outputs": [
    {
     "name": "stdout",
     "output_type": "stream",
     "text": [
      "7\n"
     ]
    }
   ],
   "source": [
    "def total_length(list):\n",
    "    sum = 0\n",
    "    for element in list:\n",
    "        sum = sum + len(element)\n",
    "    return sum\n",
    "print (total_length([\"123\",\"xyz\",\"a\"]))"
   ]
  },
  {
   "cell_type": "markdown",
   "metadata": {},
   "source": [
    "<div class=\"task_description\">\n",
    "    <i class=\"task\">Task III.3:</i><br>\n",
    "</div>\n",
    "\n",
    "Given is a list with integer and real numbers. Define a function that returns a list with only positive\n",
    "numbers."
   ]
  },
  {
   "cell_type": "code",
   "execution_count": 26,
   "metadata": {},
   "outputs": [
    {
     "name": "stdout",
     "output_type": "stream",
     "text": [
      "[3, 2.4]\n"
     ]
    }
   ],
   "source": [
    "def positive(a_list):\n",
    "    answer = []\n",
    "    for a in a_list:\n",
    "        if a > 0:\n",
    "            answer.append(a)\n",
    "    return answer\n",
    "print (positive([3,-3,2.4,-0.1]))"
   ]
  },
  {
   "cell_type": "markdown",
   "metadata": {},
   "source": [
    "Define a function that returns how many times the letter \"s\" appears in the text (don’t use any built-in functions). How much is this as a percentage of the total number of letters in this text (print it out)?"
   ]
  },
  {
   "cell_type": "code",
   "execution_count": 27,
   "metadata": {},
   "outputs": [
    {
     "name": "stdout",
     "output_type": "stream",
     "text": [
      "The s's make up 15.789473684210526 % of the text\n",
      "3\n"
     ]
    }
   ],
   "source": [
    "def s_occur(text):\n",
    "    s_counter = 0\n",
    "    for letter in text:\n",
    "        if letter == 's':\n",
    "            s_counter = s_counter + 1\n",
    "    print (\"The s's make up\", (s_counter * 100 / len(text)), '%',\"of the text\")\n",
    "    return s_counter\n",
    "print (s_occur(\"This is a test text\"))"
   ]
  },
  {
   "cell_type": "markdown",
   "metadata": {},
   "source": [
    "<div class=\"task_description\">\n",
    "    <i class=\"task\">Task III.4:</i><br>\n",
    "Solve the tasks below:\n",
    "</div>\n"
   ]
  },
  {
   "cell_type": "markdown",
   "metadata": {},
   "source": [
    "1. Define a function that returns the length of the longest word of text. (Hint: e.g. with a for loop you can iterate over the words of the text.)"
   ]
  },
  {
   "cell_type": "code",
   "execution_count": 28,
   "metadata": {},
   "outputs": [
    {
     "name": "stdout",
     "output_type": "stream",
     "text": [
      "4\n"
     ]
    }
   ],
   "source": [
    "def max_length(text):\n",
    "    max = 0\n",
    "    for item in text.split():\n",
    "        if len(item) > max:\n",
    "            max = len(item)\n",
    "    return max\n",
    "print(max_length(\"This is a test text\"))"
   ]
  },
  {
   "cell_type": "markdown",
   "metadata": {},
   "source": [
    "2. Define a function that prints \"Yes\" when the text has more than 20,000 tokens and the length of the longest word is at least 10 characters. Otherwise return \"No\". (Hint: You can use the function from the previous task.)"
   ]
  },
  {
   "cell_type": "code",
   "execution_count": 29,
   "metadata": {},
   "outputs": [
    {
     "name": "stdout",
     "output_type": "stream",
     "text": [
      "No\n",
      "None\n"
     ]
    }
   ],
   "source": [
    "def yes_or_no(text):\n",
    "    if len(text) > 20000 and max_length(text) >= 10:\n",
    "        print (\"Yes\")\n",
    "    else:\n",
    "        print (\"No\")\n",
    "print(yes_or_no(\"This is a test text\"))"
   ]
  },
  {
   "cell_type": "markdown",
   "metadata": {},
   "source": [
    "3. Define a function that prints out all tokens of a text. Use a ```for``` loop."
   ]
  },
  {
   "cell_type": "code",
   "execution_count": 35,
   "metadata": {},
   "outputs": [
    {
     "name": "stdout",
     "output_type": "stream",
     "text": [
      "This\n",
      "is\n",
      "a\n",
      "test\n",
      "text\n"
     ]
    }
   ],
   "source": [
    "def print_out(text):\n",
    "    for item in text.split():\n",
    "        print(item)\n",
    "        \n",
    "print_out(\"This is a test text\")"
   ]
  },
  {
   "cell_type": "code",
   "execution_count": null,
   "metadata": {},
   "outputs": [],
   "source": []
  }
 ],
 "metadata": {
  "kernelspec": {
   "display_name": "Python 3",
   "language": "python",
   "name": "python3"
  },
  "language_info": {
   "codemirror_mode": {
    "name": "ipython",
    "version": 3
   },
   "file_extension": ".py",
   "mimetype": "text/x-python",
   "name": "python",
   "nbconvert_exporter": "python",
   "pygments_lexer": "ipython3",
   "version": "3.7.3"
  },
  "varInspector": {
   "cols": {
    "lenName": 16,
    "lenType": 16,
    "lenVar": 40
   },
   "kernels_config": {
    "python": {
     "delete_cmd_postfix": "",
     "delete_cmd_prefix": "del ",
     "library": "var_list.py",
     "varRefreshCmd": "print(var_dic_list())"
    },
    "r": {
     "delete_cmd_postfix": ") ",
     "delete_cmd_prefix": "rm(",
     "library": "var_list.r",
     "varRefreshCmd": "cat(var_dic_list()) "
    }
   },
   "types_to_exclude": [
    "module",
    "function",
    "builtin_function_or_method",
    "instance",
    "_Feature"
   ],
   "window_display": false
  }
 },
 "nbformat": 4,
 "nbformat_minor": 2
}
